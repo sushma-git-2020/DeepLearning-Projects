{
  "nbformat": 4,
  "nbformat_minor": 0,
  "metadata": {
    "accelerator": "GPU",
    "colab": {
      "name": "4-HW-Credit_default.ipynb",
      "provenance": [],
      "collapsed_sections": [],
      "toc_visible": true
    },
    "kernelspec": {
      "display_name": "Python 3",
      "language": "python",
      "name": "python3"
    },
    "language_info": {
      "codemirror_mode": {
        "name": "ipython",
        "version": 3
      },
      "file_extension": ".py",
      "mimetype": "text/x-python",
      "name": "python",
      "nbconvert_exporter": "python",
      "pygments_lexer": "ipython3",
      "version": "3.7.3"
    }
  },
  "cells": [
    {
      "cell_type": "markdown",
      "metadata": {
        "id": "vyrO7ftIWVNA",
        "colab_type": "text"
      },
      "source": [
        "### Detecting Credit Defaulting - Give me some Credit"
      ]
    },
    {
      "cell_type": "markdown",
      "metadata": {
        "id": "pS_iRjA5WVNG",
        "colab_type": "text"
      },
      "source": [
        "Banks play a crucial role in market economies. They decide who can get finance and on what terms and can make or break investment decisions. For markets and society to function, individuals and companies need access to credit. \n",
        "\n",
        "Credit scoring algorithms, which make a guess at the probability of default, are the method banks use to determine whether or not a loan should be granted. This competition requires participants to improve on the state of the art in credit scoring, by predicting the probability that somebody will experience financial distress in the next two years.\n",
        "\n",
        "The goal is to build a model that borrowers can use to help make the best financial decisions."
      ]
    },
    {
      "cell_type": "markdown",
      "metadata": {
        "id": "lx_GX9XCWVNJ",
        "colab_type": "text"
      },
      "source": [
        "### 1. Load the Dataset and prepare it for the algorithm\n",
        "- Load the dataset, check the first five observations, check the column names, check the summary of the dataset (describe method) to see if there are any outliers or any missing values.\n",
        "\n",
        "- If there are any outliers, cap the dataset with 0.95 quantile:\n",
        "```\n",
        " x=data['columnname'].quantile(0.95)\n",
        " data['columnname']=np.where(data['columnname']>x,x,data['columnname'])\n",
        " ```\n",
        "- If you see any need for scaling, scale the data column by dividing by maximum of that column\n",
        "\n",
        "- Split data into atribute set and target\n",
        "\n",
        "- split into test and train data sets\n",
        "\n"
      ]
    },
    {
      "cell_type": "code",
      "metadata": {
        "colab_type": "code",
        "id": "B4myEEoOBtfX",
        "colab": {}
      },
      "source": [
        "import pandas as pd\n",
        "import seaborn as sns\n",
        "import numpy as np\n",
        "import warnings\n",
        "%matplotlib inline\n",
        "import matplotlib.pyplot as plt\n",
        "import matplotlib.ticker as mticker\n",
        "from sklearn.model_selection import cross_val_score,train_test_split,GridSearchCV,StratifiedKFold\n",
        "warnings.filterwarnings('ignore')\n",
        "from keras.wrappers.scikit_learn import KerasClassifier\n",
        "from keras.models import Sequential\n",
        "from keras.layers import Dense\n",
        "from keras.regularizers import l2\n",
        "from keras.layers import Dropout, Activation\n",
        "from keras.layers.normalization import BatchNormalization\n",
        "from sklearn import metrics\n",
        "from sklearn.metrics import confusion_matrix, precision_score, recall_score, f1_score, precision_recall_curve, roc_auc_score, roc_curve,accuracy_score, classification_report\n"
      ],
      "execution_count": 0,
      "outputs": []
    },
    {
      "cell_type": "code",
      "metadata": {
        "id": "2Aj8HRSzWVNf",
        "colab_type": "code",
        "colab": {}
      },
      "source": [
        "data = pd.read_csv('4-cs-training.csv')"
      ],
      "execution_count": 0,
      "outputs": []
    },
    {
      "cell_type": "code",
      "metadata": {
        "id": "Cn7W7jomWVNu",
        "colab_type": "code",
        "outputId": "c75674c3-e952-4679-8775-9fc4a8193d15",
        "colab": {
          "base_uri": "https://localhost:8080/",
          "height": 320
        }
      },
      "source": [
        "data.describe()\n",
        "#Data needs scaling for sure, min age is 0, imbalanced data, diff  between min and max a lot on some columns"
      ],
      "execution_count": 0,
      "outputs": [
        {
          "output_type": "execute_result",
          "data": {
            "text/html": [
              "<div>\n",
              "<style scoped>\n",
              "    .dataframe tbody tr th:only-of-type {\n",
              "        vertical-align: middle;\n",
              "    }\n",
              "\n",
              "    .dataframe tbody tr th {\n",
              "        vertical-align: top;\n",
              "    }\n",
              "\n",
              "    .dataframe thead th {\n",
              "        text-align: right;\n",
              "    }\n",
              "</style>\n",
              "<table border=\"1\" class=\"dataframe\">\n",
              "  <thead>\n",
              "    <tr style=\"text-align: right;\">\n",
              "      <th></th>\n",
              "      <th>Unnamed: 0</th>\n",
              "      <th>SeriousDlqin2yrs</th>\n",
              "      <th>RevolvingUtilizationOfUnsecuredLines</th>\n",
              "      <th>age</th>\n",
              "      <th>NumberOfTime30-59DaysPastDueNotWorse</th>\n",
              "      <th>DebtRatio</th>\n",
              "      <th>MonthlyIncome</th>\n",
              "      <th>NumberOfOpenCreditLinesAndLoans</th>\n",
              "      <th>NumberOfTimes90DaysLate</th>\n",
              "      <th>NumberRealEstateLoansOrLines</th>\n",
              "      <th>NumberOfTime60-89DaysPastDueNotWorse</th>\n",
              "      <th>NumberOfDependents</th>\n",
              "    </tr>\n",
              "  </thead>\n",
              "  <tbody>\n",
              "    <tr>\n",
              "      <th>count</th>\n",
              "      <td>150000.000000</td>\n",
              "      <td>150000.000000</td>\n",
              "      <td>150000.000000</td>\n",
              "      <td>150000.000000</td>\n",
              "      <td>150000.000000</td>\n",
              "      <td>150000.000000</td>\n",
              "      <td>1.202690e+05</td>\n",
              "      <td>150000.000000</td>\n",
              "      <td>150000.000000</td>\n",
              "      <td>150000.000000</td>\n",
              "      <td>150000.000000</td>\n",
              "      <td>146076.000000</td>\n",
              "    </tr>\n",
              "    <tr>\n",
              "      <th>mean</th>\n",
              "      <td>75000.500000</td>\n",
              "      <td>0.066840</td>\n",
              "      <td>6.048438</td>\n",
              "      <td>52.295207</td>\n",
              "      <td>0.421033</td>\n",
              "      <td>353.005076</td>\n",
              "      <td>6.670221e+03</td>\n",
              "      <td>8.452760</td>\n",
              "      <td>0.265973</td>\n",
              "      <td>1.018240</td>\n",
              "      <td>0.240387</td>\n",
              "      <td>0.757222</td>\n",
              "    </tr>\n",
              "    <tr>\n",
              "      <th>std</th>\n",
              "      <td>43301.414527</td>\n",
              "      <td>0.249746</td>\n",
              "      <td>249.755371</td>\n",
              "      <td>14.771866</td>\n",
              "      <td>4.192781</td>\n",
              "      <td>2037.818523</td>\n",
              "      <td>1.438467e+04</td>\n",
              "      <td>5.145951</td>\n",
              "      <td>4.169304</td>\n",
              "      <td>1.129771</td>\n",
              "      <td>4.155179</td>\n",
              "      <td>1.115086</td>\n",
              "    </tr>\n",
              "    <tr>\n",
              "      <th>min</th>\n",
              "      <td>1.000000</td>\n",
              "      <td>0.000000</td>\n",
              "      <td>0.000000</td>\n",
              "      <td>0.000000</td>\n",
              "      <td>0.000000</td>\n",
              "      <td>0.000000</td>\n",
              "      <td>0.000000e+00</td>\n",
              "      <td>0.000000</td>\n",
              "      <td>0.000000</td>\n",
              "      <td>0.000000</td>\n",
              "      <td>0.000000</td>\n",
              "      <td>0.000000</td>\n",
              "    </tr>\n",
              "    <tr>\n",
              "      <th>25%</th>\n",
              "      <td>37500.750000</td>\n",
              "      <td>0.000000</td>\n",
              "      <td>0.029867</td>\n",
              "      <td>41.000000</td>\n",
              "      <td>0.000000</td>\n",
              "      <td>0.175074</td>\n",
              "      <td>3.400000e+03</td>\n",
              "      <td>5.000000</td>\n",
              "      <td>0.000000</td>\n",
              "      <td>0.000000</td>\n",
              "      <td>0.000000</td>\n",
              "      <td>0.000000</td>\n",
              "    </tr>\n",
              "    <tr>\n",
              "      <th>50%</th>\n",
              "      <td>75000.500000</td>\n",
              "      <td>0.000000</td>\n",
              "      <td>0.154181</td>\n",
              "      <td>52.000000</td>\n",
              "      <td>0.000000</td>\n",
              "      <td>0.366508</td>\n",
              "      <td>5.400000e+03</td>\n",
              "      <td>8.000000</td>\n",
              "      <td>0.000000</td>\n",
              "      <td>1.000000</td>\n",
              "      <td>0.000000</td>\n",
              "      <td>0.000000</td>\n",
              "    </tr>\n",
              "    <tr>\n",
              "      <th>75%</th>\n",
              "      <td>112500.250000</td>\n",
              "      <td>0.000000</td>\n",
              "      <td>0.559046</td>\n",
              "      <td>63.000000</td>\n",
              "      <td>0.000000</td>\n",
              "      <td>0.868254</td>\n",
              "      <td>8.249000e+03</td>\n",
              "      <td>11.000000</td>\n",
              "      <td>0.000000</td>\n",
              "      <td>2.000000</td>\n",
              "      <td>0.000000</td>\n",
              "      <td>1.000000</td>\n",
              "    </tr>\n",
              "    <tr>\n",
              "      <th>max</th>\n",
              "      <td>150000.000000</td>\n",
              "      <td>1.000000</td>\n",
              "      <td>50708.000000</td>\n",
              "      <td>109.000000</td>\n",
              "      <td>98.000000</td>\n",
              "      <td>329664.000000</td>\n",
              "      <td>3.008750e+06</td>\n",
              "      <td>58.000000</td>\n",
              "      <td>98.000000</td>\n",
              "      <td>54.000000</td>\n",
              "      <td>98.000000</td>\n",
              "      <td>20.000000</td>\n",
              "    </tr>\n",
              "  </tbody>\n",
              "</table>\n",
              "</div>"
            ],
            "text/plain": [
              "          Unnamed: 0  ...  NumberOfDependents\n",
              "count  150000.000000  ...       146076.000000\n",
              "mean    75000.500000  ...            0.757222\n",
              "std     43301.414527  ...            1.115086\n",
              "min         1.000000  ...            0.000000\n",
              "25%     37500.750000  ...            0.000000\n",
              "50%     75000.500000  ...            0.000000\n",
              "75%    112500.250000  ...            1.000000\n",
              "max    150000.000000  ...           20.000000\n",
              "\n",
              "[8 rows x 12 columns]"
            ]
          },
          "metadata": {
            "tags": []
          },
          "execution_count": 34
        }
      ]
    },
    {
      "cell_type": "code",
      "metadata": {
        "id": "m6nVth1_WVN8",
        "colab_type": "code",
        "outputId": "6fe4023e-4216-4e66-c0d5-099763ea59f3",
        "colab": {
          "base_uri": "https://localhost:8080/",
          "height": 366
        }
      },
      "source": [
        "data.info()"
      ],
      "execution_count": 0,
      "outputs": [
        {
          "output_type": "stream",
          "text": [
            "<class 'pandas.core.frame.DataFrame'>\n",
            "RangeIndex: 150000 entries, 0 to 149999\n",
            "Data columns (total 12 columns):\n",
            " #   Column                                Non-Null Count   Dtype  \n",
            "---  ------                                --------------   -----  \n",
            " 0   Unnamed: 0                            150000 non-null  int64  \n",
            " 1   SeriousDlqin2yrs                      150000 non-null  int64  \n",
            " 2   RevolvingUtilizationOfUnsecuredLines  150000 non-null  float64\n",
            " 3   age                                   150000 non-null  int64  \n",
            " 4   NumberOfTime30-59DaysPastDueNotWorse  150000 non-null  int64  \n",
            " 5   DebtRatio                             150000 non-null  float64\n",
            " 6   MonthlyIncome                         120269 non-null  float64\n",
            " 7   NumberOfOpenCreditLinesAndLoans       150000 non-null  int64  \n",
            " 8   NumberOfTimes90DaysLate               150000 non-null  int64  \n",
            " 9   NumberRealEstateLoansOrLines          150000 non-null  int64  \n",
            " 10  NumberOfTime60-89DaysPastDueNotWorse  150000 non-null  int64  \n",
            " 11  NumberOfDependents                    146076 non-null  float64\n",
            "dtypes: float64(4), int64(8)\n",
            "memory usage: 13.7 MB\n"
          ],
          "name": "stdout"
        }
      ]
    },
    {
      "cell_type": "code",
      "metadata": {
        "id": "zjJN8zurWVOD",
        "colab_type": "code",
        "outputId": "bdfd73d6-9dfd-4eef-d4df-ccf0811a0648",
        "colab": {
          "base_uri": "https://localhost:8080/",
          "height": 256
        }
      },
      "source": [
        "#monthly income and number of dependents has null values\n",
        "data.isnull().any()"
      ],
      "execution_count": 0,
      "outputs": [
        {
          "output_type": "execute_result",
          "data": {
            "text/plain": [
              "Unnamed: 0                              False\n",
              "SeriousDlqin2yrs                        False\n",
              "RevolvingUtilizationOfUnsecuredLines    False\n",
              "age                                     False\n",
              "NumberOfTime30-59DaysPastDueNotWorse    False\n",
              "DebtRatio                               False\n",
              "MonthlyIncome                            True\n",
              "NumberOfOpenCreditLinesAndLoans         False\n",
              "NumberOfTimes90DaysLate                 False\n",
              "NumberRealEstateLoansOrLines            False\n",
              "NumberOfTime60-89DaysPastDueNotWorse    False\n",
              "NumberOfDependents                       True\n",
              "dtype: bool"
            ]
          },
          "metadata": {
            "tags": []
          },
          "execution_count": 36
        }
      ]
    },
    {
      "cell_type": "code",
      "metadata": {
        "id": "F5iFvCaHWVON",
        "colab_type": "code",
        "outputId": "86b0e4fa-6d98-4999-eea9-8e58207363b5",
        "colab": {
          "base_uri": "https://localhost:8080/",
          "height": 72
        }
      },
      "source": [
        "#monthly income is null on a lot of rows\n",
        "data['MonthlyIncome'].isnull().value_counts()"
      ],
      "execution_count": 0,
      "outputs": [
        {
          "output_type": "execute_result",
          "data": {
            "text/plain": [
              "False    120269\n",
              "True      29731\n",
              "Name: MonthlyIncome, dtype: int64"
            ]
          },
          "metadata": {
            "tags": []
          },
          "execution_count": 37
        }
      ]
    },
    {
      "cell_type": "code",
      "metadata": {
        "id": "bIld3frHWVOW",
        "colab_type": "code",
        "colab": {}
      },
      "source": [
        "# imputing missing values - with median\n",
        "data = data.fillna(data.median())"
      ],
      "execution_count": 0,
      "outputs": []
    },
    {
      "cell_type": "code",
      "metadata": {
        "id": "4g4qlOR6WVOe",
        "colab_type": "code",
        "outputId": "86d7e3e3-eb0a-4ed6-86fa-355e5115171d",
        "colab": {
          "base_uri": "https://localhost:8080/",
          "height": 72
        }
      },
      "source": [
        "#imbalanced data\n",
        "data['SeriousDlqin2yrs'].value_counts(normalize=True)"
      ],
      "execution_count": 0,
      "outputs": [
        {
          "output_type": "execute_result",
          "data": {
            "text/plain": [
              "0    0.93316\n",
              "1    0.06684\n",
              "Name: SeriousDlqin2yrs, dtype: float64"
            ]
          },
          "metadata": {
            "tags": []
          },
          "execution_count": 39
        }
      ]
    },
    {
      "cell_type": "code",
      "metadata": {
        "id": "NnEkXqfQWVOk",
        "colab_type": "code",
        "outputId": "03471e70-d317-49a3-f972-5b8c9186053b",
        "colab": {
          "base_uri": "https://localhost:8080/",
          "height": 72
        }
      },
      "source": [
        "#only one record where age = 0\n",
        "(data['age']== 0).value_counts()"
      ],
      "execution_count": 0,
      "outputs": [
        {
          "output_type": "execute_result",
          "data": {
            "text/plain": [
              "False    149999\n",
              "True          1\n",
              "Name: age, dtype: int64"
            ]
          },
          "metadata": {
            "tags": []
          },
          "execution_count": 40
        }
      ]
    },
    {
      "cell_type": "code",
      "metadata": {
        "id": "Dp8Us-wPWVOs",
        "colab_type": "code",
        "colab": {}
      },
      "source": [
        "data.loc[data[\"age\"] == 0, \"age\"] = data.age.median()"
      ],
      "execution_count": 0,
      "outputs": []
    },
    {
      "cell_type": "code",
      "metadata": {
        "id": "42ZLBBNGWVOz",
        "colab_type": "code",
        "outputId": "d7390f5a-265f-42ff-dddb-c76d6e1e09b6",
        "colab": {
          "base_uri": "https://localhost:8080/",
          "height": 294
        }
      },
      "source": [
        "sns.boxplot(data=data)"
      ],
      "execution_count": 0,
      "outputs": [
        {
          "output_type": "execute_result",
          "data": {
            "text/plain": [
              "<matplotlib.axes._subplots.AxesSubplot at 0x7f4c88fdeba8>"
            ]
          },
          "metadata": {
            "tags": []
          },
          "execution_count": 42
        },
        {
          "output_type": "display_data",
          "data": {
            "image/png": "[encoded data removed]",
            "text/plain": [
              "<Figure size 432x288 with 1 Axes>"
            ]
          },
          "metadata": {
            "tags": [],
            "needs_background": "light"
          }
        }
      ]
    },
    {
      "cell_type": "code",
      "metadata": {
        "id": "gzpaL92MWVO8",
        "colab_type": "code",
        "colab": {}
      },
      "source": [
        "# cols=data.columns\n",
        "# fig=plt.figure(figsize=(20,50))\n",
        "# for i in range(len(cols)):\n",
        "#     if (i+1)!=len(cols):\n",
        "#         plt.subplot(11,5,i+1)\n",
        "#     plt.hist(data[cols[i]])\n",
        "#     if i != 0:\n",
        "#         plt.ylabel((data.columns[i-1])[0: 20], fontsize=20)\n",
        "#     if (i+1)!=len(cols):\n",
        "#         plt.xlabel((data.columns[i])[0: 20],fontsize=20)\n",
        "# plt.tight_layout()\n",
        "# plt.show()"
      ],
      "execution_count": 0,
      "outputs": []
    },
    {
      "cell_type": "code",
      "metadata": {
        "id": "usBbak3lWVPF",
        "colab_type": "code",
        "colab": {}
      },
      "source": [
        "X = data.drop(\"SeriousDlqin2yrs\", axis=1) \n",
        "y = data[\"SeriousDlqin2yrs\"]"
      ],
      "execution_count": 0,
      "outputs": []
    },
    {
      "cell_type": "code",
      "metadata": {
        "id": "kkitL7zaWVPL",
        "colab_type": "code",
        "outputId": "e2c7262d-a3df-486f-d6f2-510315602804",
        "colab": {
          "base_uri": "https://localhost:8080/",
          "height": 296
        }
      },
      "source": [
        "plt.scatter(X.MonthlyIncome,y)"
      ],
      "execution_count": 0,
      "outputs": [
        {
          "output_type": "execute_result",
          "data": {
            "text/plain": [
              "<matplotlib.collections.PathCollection at 0x7f4c88e7c5c0>"
            ]
          },
          "metadata": {
            "tags": []
          },
          "execution_count": 45
        },
        {
          "output_type": "display_data",
          "data": {
            "image/png": "[encoded data removed]",
            "text/plain": [
              "<Figure size 432x288 with 1 Axes>"
            ]
          },
          "metadata": {
            "tags": [],
            "needs_background": "light"
          }
        }
      ]
    },
    {
      "cell_type": "code",
      "metadata": {
        "id": "Sn5PiIOrWVPS",
        "colab_type": "code",
        "colab": {}
      },
      "source": [
        "#see outliers on RevolvingUtilizationOfUnsecuredLines, 'NumberOfTime30-59DaysPastDueNotWorse'\n",
        "outliers = ['RevolvingUtilizationOfUnsecuredLines', 'NumberOfTime30-59DaysPastDueNotWorse', \n",
        "            'DebtRatio','MonthlyIncome', 'NumberOfTimes90DaysLate' , \n",
        "            'NumberRealEstateLoansOrLines', 'NumberOfTime60-89DaysPastDueNotWorse',\n",
        "            'NumberOfDependents']\n",
        "\n",
        "for columnname in outliers:\n",
        "    x=X[columnname].quantile(0.95)\n",
        "    X[columnname]=np.where(X[columnname]>x,x,X[columnname])"
      ],
      "execution_count": 0,
      "outputs": []
    },
    {
      "cell_type": "code",
      "metadata": {
        "id": "bOcgVI9sWVPc",
        "colab_type": "code",
        "outputId": "172ce863-c37b-437e-eaac-78e87c496150",
        "colab": {
          "base_uri": "https://localhost:8080/",
          "height": 283
        }
      },
      "source": [
        "plt.scatter(X.MonthlyIncome,y)"
      ],
      "execution_count": 0,
      "outputs": [
        {
          "output_type": "execute_result",
          "data": {
            "text/plain": [
              "<matplotlib.collections.PathCollection at 0x7f4c88dd9e80>"
            ]
          },
          "metadata": {
            "tags": []
          },
          "execution_count": 47
        },
        {
          "output_type": "display_data",
          "data": {
            "image/png": "[encoded data removed]",
            "text/plain": [
              "<Figure size 432x288 with 1 Axes>"
            ]
          },
          "metadata": {
            "tags": [],
            "needs_background": "light"
          }
        }
      ]
    },
    {
      "cell_type": "code",
      "metadata": {
        "id": "TI4oSStoWVPj",
        "colab_type": "code",
        "outputId": "cd137ef9-1955-46d7-b627-ae48691a7d7c",
        "colab": {
          "base_uri": "https://localhost:8080/",
          "height": 320
        }
      },
      "source": [
        "X.describe()"
      ],
      "execution_count": 0,
      "outputs": [
        {
          "output_type": "execute_result",
          "data": {
            "text/html": [
              "<div>\n",
              "<style scoped>\n",
              "    .dataframe tbody tr th:only-of-type {\n",
              "        vertical-align: middle;\n",
              "    }\n",
              "\n",
              "    .dataframe tbody tr th {\n",
              "        vertical-align: top;\n",
              "    }\n",
              "\n",
              "    .dataframe thead th {\n",
              "        text-align: right;\n",
              "    }\n",
              "</style>\n",
              "<table border=\"1\" class=\"dataframe\">\n",
              "  <thead>\n",
              "    <tr style=\"text-align: right;\">\n",
              "      <th></th>\n",
              "      <th>Unnamed: 0</th>\n",
              "      <th>RevolvingUtilizationOfUnsecuredLines</th>\n",
              "      <th>age</th>\n",
              "      <th>NumberOfTime30-59DaysPastDueNotWorse</th>\n",
              "      <th>DebtRatio</th>\n",
              "      <th>MonthlyIncome</th>\n",
              "      <th>NumberOfOpenCreditLinesAndLoans</th>\n",
              "      <th>NumberOfTimes90DaysLate</th>\n",
              "      <th>NumberRealEstateLoansOrLines</th>\n",
              "      <th>NumberOfTime60-89DaysPastDueNotWorse</th>\n",
              "      <th>NumberOfDependents</th>\n",
              "    </tr>\n",
              "  </thead>\n",
              "  <tbody>\n",
              "    <tr>\n",
              "      <th>count</th>\n",
              "      <td>150000.000000</td>\n",
              "      <td>150000.000000</td>\n",
              "      <td>150000.000000</td>\n",
              "      <td>150000.000000</td>\n",
              "      <td>150000.000000</td>\n",
              "      <td>150000.000000</td>\n",
              "      <td>150000.000000</td>\n",
              "      <td>150000.000000</td>\n",
              "      <td>150000.000000</td>\n",
              "      <td>150000.000000</td>\n",
              "      <td>150000.000000</td>\n",
              "    </tr>\n",
              "    <tr>\n",
              "      <th>mean</th>\n",
              "      <td>75000.500000</td>\n",
              "      <td>0.319196</td>\n",
              "      <td>52.295553</td>\n",
              "      <td>0.212873</td>\n",
              "      <td>254.635916</td>\n",
              "      <td>5924.638427</td>\n",
              "      <td>8.452760</td>\n",
              "      <td>0.055587</td>\n",
              "      <td>0.968253</td>\n",
              "      <td>0.050693</td>\n",
              "      <td>0.702453</td>\n",
              "    </tr>\n",
              "    <tr>\n",
              "      <th>std</th>\n",
              "      <td>43301.414527</td>\n",
              "      <td>0.349481</td>\n",
              "      <td>14.771249</td>\n",
              "      <td>0.523017</td>\n",
              "      <td>662.435683</td>\n",
              "      <td>3154.343174</td>\n",
              "      <td>5.145951</td>\n",
              "      <td>0.229123</td>\n",
              "      <td>0.921476</td>\n",
              "      <td>0.219371</td>\n",
              "      <td>1.001375</td>\n",
              "    </tr>\n",
              "    <tr>\n",
              "      <th>min</th>\n",
              "      <td>1.000000</td>\n",
              "      <td>0.000000</td>\n",
              "      <td>21.000000</td>\n",
              "      <td>0.000000</td>\n",
              "      <td>0.000000</td>\n",
              "      <td>0.000000</td>\n",
              "      <td>0.000000</td>\n",
              "      <td>0.000000</td>\n",
              "      <td>0.000000</td>\n",
              "      <td>0.000000</td>\n",
              "      <td>0.000000</td>\n",
              "    </tr>\n",
              "    <tr>\n",
              "      <th>25%</th>\n",
              "      <td>37500.750000</td>\n",
              "      <td>0.029867</td>\n",
              "      <td>41.000000</td>\n",
              "      <td>0.000000</td>\n",
              "      <td>0.175074</td>\n",
              "      <td>3903.000000</td>\n",
              "      <td>5.000000</td>\n",
              "      <td>0.000000</td>\n",
              "      <td>0.000000</td>\n",
              "      <td>0.000000</td>\n",
              "      <td>0.000000</td>\n",
              "    </tr>\n",
              "    <tr>\n",
              "      <th>50%</th>\n",
              "      <td>75000.500000</td>\n",
              "      <td>0.154181</td>\n",
              "      <td>52.000000</td>\n",
              "      <td>0.000000</td>\n",
              "      <td>0.366508</td>\n",
              "      <td>5400.000000</td>\n",
              "      <td>8.000000</td>\n",
              "      <td>0.000000</td>\n",
              "      <td>1.000000</td>\n",
              "      <td>0.000000</td>\n",
              "      <td>0.000000</td>\n",
              "    </tr>\n",
              "    <tr>\n",
              "      <th>75%</th>\n",
              "      <td>112500.250000</td>\n",
              "      <td>0.559046</td>\n",
              "      <td>63.000000</td>\n",
              "      <td>0.000000</td>\n",
              "      <td>0.868254</td>\n",
              "      <td>7400.000000</td>\n",
              "      <td>11.000000</td>\n",
              "      <td>0.000000</td>\n",
              "      <td>2.000000</td>\n",
              "      <td>0.000000</td>\n",
              "      <td>1.000000</td>\n",
              "    </tr>\n",
              "    <tr>\n",
              "      <th>max</th>\n",
              "      <td>150000.000000</td>\n",
              "      <td>1.000000</td>\n",
              "      <td>109.000000</td>\n",
              "      <td>2.000000</td>\n",
              "      <td>2449.000000</td>\n",
              "      <td>13500.000000</td>\n",
              "      <td>58.000000</td>\n",
              "      <td>1.000000</td>\n",
              "      <td>3.000000</td>\n",
              "      <td>1.000000</td>\n",
              "      <td>3.000000</td>\n",
              "    </tr>\n",
              "  </tbody>\n",
              "</table>\n",
              "</div>"
            ],
            "text/plain": [
              "          Unnamed: 0  ...  NumberOfDependents\n",
              "count  150000.000000  ...       150000.000000\n",
              "mean    75000.500000  ...            0.702453\n",
              "std     43301.414527  ...            1.001375\n",
              "min         1.000000  ...            0.000000\n",
              "25%     37500.750000  ...            0.000000\n",
              "50%     75000.500000  ...            0.000000\n",
              "75%    112500.250000  ...            1.000000\n",
              "max    150000.000000  ...            3.000000\n",
              "\n",
              "[8 rows x 11 columns]"
            ]
          },
          "metadata": {
            "tags": []
          },
          "execution_count": 48
        }
      ]
    },
    {
      "cell_type": "code",
      "metadata": {
        "id": "A8fEldSoWVPv",
        "colab_type": "code",
        "colab": {}
      },
      "source": [
        "#scale the data column by dividing by maximum \n",
        "#of that column \n",
        "for i in X.columns.values:\n",
        "    X[i] = X[i]/X[i].max()"
      ],
      "execution_count": 0,
      "outputs": []
    },
    {
      "cell_type": "code",
      "metadata": {
        "id": "t0OhGzFYWVP0",
        "colab_type": "code",
        "outputId": "b440e4ea-0a7b-433f-82c2-e36a96b8df94",
        "colab": {
          "base_uri": "https://localhost:8080/",
          "height": 320
        }
      },
      "source": [
        "X.describe()"
      ],
      "execution_count": 0,
      "outputs": [
        {
          "output_type": "execute_result",
          "data": {
            "text/html": [
              "<div>\n",
              "<style scoped>\n",
              "    .dataframe tbody tr th:only-of-type {\n",
              "        vertical-align: middle;\n",
              "    }\n",
              "\n",
              "    .dataframe tbody tr th {\n",
              "        vertical-align: top;\n",
              "    }\n",
              "\n",
              "    .dataframe thead th {\n",
              "        text-align: right;\n",
              "    }\n",
              "</style>\n",
              "<table border=\"1\" class=\"dataframe\">\n",
              "  <thead>\n",
              "    <tr style=\"text-align: right;\">\n",
              "      <th></th>\n",
              "      <th>Unnamed: 0</th>\n",
              "      <th>RevolvingUtilizationOfUnsecuredLines</th>\n",
              "      <th>age</th>\n",
              "      <th>NumberOfTime30-59DaysPastDueNotWorse</th>\n",
              "      <th>DebtRatio</th>\n",
              "      <th>MonthlyIncome</th>\n",
              "      <th>NumberOfOpenCreditLinesAndLoans</th>\n",
              "      <th>NumberOfTimes90DaysLate</th>\n",
              "      <th>NumberRealEstateLoansOrLines</th>\n",
              "      <th>NumberOfTime60-89DaysPastDueNotWorse</th>\n",
              "      <th>NumberOfDependents</th>\n",
              "    </tr>\n",
              "  </thead>\n",
              "  <tbody>\n",
              "    <tr>\n",
              "      <th>count</th>\n",
              "      <td>150000.000000</td>\n",
              "      <td>150000.000000</td>\n",
              "      <td>150000.000000</td>\n",
              "      <td>150000.000000</td>\n",
              "      <td>150000.000000</td>\n",
              "      <td>150000.000000</td>\n",
              "      <td>150000.000000</td>\n",
              "      <td>150000.000000</td>\n",
              "      <td>150000.000000</td>\n",
              "      <td>150000.000000</td>\n",
              "      <td>150000.000000</td>\n",
              "    </tr>\n",
              "    <tr>\n",
              "      <th>mean</th>\n",
              "      <td>0.500003</td>\n",
              "      <td>0.319196</td>\n",
              "      <td>0.479776</td>\n",
              "      <td>0.106437</td>\n",
              "      <td>0.103975</td>\n",
              "      <td>0.438862</td>\n",
              "      <td>0.145737</td>\n",
              "      <td>0.055587</td>\n",
              "      <td>0.322751</td>\n",
              "      <td>0.050693</td>\n",
              "      <td>0.234151</td>\n",
              "    </tr>\n",
              "    <tr>\n",
              "      <th>std</th>\n",
              "      <td>0.288676</td>\n",
              "      <td>0.349481</td>\n",
              "      <td>0.135516</td>\n",
              "      <td>0.261508</td>\n",
              "      <td>0.270492</td>\n",
              "      <td>0.233655</td>\n",
              "      <td>0.088723</td>\n",
              "      <td>0.229123</td>\n",
              "      <td>0.307159</td>\n",
              "      <td>0.219371</td>\n",
              "      <td>0.333792</td>\n",
              "    </tr>\n",
              "    <tr>\n",
              "      <th>min</th>\n",
              "      <td>0.000007</td>\n",
              "      <td>0.000000</td>\n",
              "      <td>0.192661</td>\n",
              "      <td>0.000000</td>\n",
              "      <td>0.000000</td>\n",
              "      <td>0.000000</td>\n",
              "      <td>0.000000</td>\n",
              "      <td>0.000000</td>\n",
              "      <td>0.000000</td>\n",
              "      <td>0.000000</td>\n",
              "      <td>0.000000</td>\n",
              "    </tr>\n",
              "    <tr>\n",
              "      <th>25%</th>\n",
              "      <td>0.250005</td>\n",
              "      <td>0.029867</td>\n",
              "      <td>0.376147</td>\n",
              "      <td>0.000000</td>\n",
              "      <td>0.000071</td>\n",
              "      <td>0.289111</td>\n",
              "      <td>0.086207</td>\n",
              "      <td>0.000000</td>\n",
              "      <td>0.000000</td>\n",
              "      <td>0.000000</td>\n",
              "      <td>0.000000</td>\n",
              "    </tr>\n",
              "    <tr>\n",
              "      <th>50%</th>\n",
              "      <td>0.500003</td>\n",
              "      <td>0.154181</td>\n",
              "      <td>0.477064</td>\n",
              "      <td>0.000000</td>\n",
              "      <td>0.000150</td>\n",
              "      <td>0.400000</td>\n",
              "      <td>0.137931</td>\n",
              "      <td>0.000000</td>\n",
              "      <td>0.333333</td>\n",
              "      <td>0.000000</td>\n",
              "      <td>0.000000</td>\n",
              "    </tr>\n",
              "    <tr>\n",
              "      <th>75%</th>\n",
              "      <td>0.750002</td>\n",
              "      <td>0.559046</td>\n",
              "      <td>0.577982</td>\n",
              "      <td>0.000000</td>\n",
              "      <td>0.000355</td>\n",
              "      <td>0.548148</td>\n",
              "      <td>0.189655</td>\n",
              "      <td>0.000000</td>\n",
              "      <td>0.666667</td>\n",
              "      <td>0.000000</td>\n",
              "      <td>0.333333</td>\n",
              "    </tr>\n",
              "    <tr>\n",
              "      <th>max</th>\n",
              "      <td>1.000000</td>\n",
              "      <td>1.000000</td>\n",
              "      <td>1.000000</td>\n",
              "      <td>1.000000</td>\n",
              "      <td>1.000000</td>\n",
              "      <td>1.000000</td>\n",
              "      <td>1.000000</td>\n",
              "      <td>1.000000</td>\n",
              "      <td>1.000000</td>\n",
              "      <td>1.000000</td>\n",
              "      <td>1.000000</td>\n",
              "    </tr>\n",
              "  </tbody>\n",
              "</table>\n",
              "</div>"
            ],
            "text/plain": [
              "          Unnamed: 0  ...  NumberOfDependents\n",
              "count  150000.000000  ...       150000.000000\n",
              "mean        0.500003  ...            0.234151\n",
              "std         0.288676  ...            0.333792\n",
              "min         0.000007  ...            0.000000\n",
              "25%         0.250005  ...            0.000000\n",
              "50%         0.500003  ...            0.000000\n",
              "75%         0.750002  ...            0.333333\n",
              "max         1.000000  ...            1.000000\n",
              "\n",
              "[8 rows x 11 columns]"
            ]
          },
          "metadata": {
            "tags": []
          },
          "execution_count": 50
        }
      ]
    },
    {
      "cell_type": "code",
      "metadata": {
        "id": "ZvDQKBYEWVP6",
        "colab_type": "code",
        "outputId": "7d2520d3-ac05-4684-af7c-be6d2cc7ef7c",
        "colab": {
          "base_uri": "https://localhost:8080/",
          "height": 283
        }
      },
      "source": [
        "sns.boxplot(data=X)"
      ],
      "execution_count": 0,
      "outputs": [
        {
          "output_type": "execute_result",
          "data": {
            "text/plain": [
              "<matplotlib.axes._subplots.AxesSubplot at 0x7f4c88e3b278>"
            ]
          },
          "metadata": {
            "tags": []
          },
          "execution_count": 51
        },
        {
          "output_type": "display_data",
          "data": {
            "image/png": "[encoded data removed]",
            "text/plain": [
              "<Figure size 432x288 with 1 Axes>"
            ]
          },
          "metadata": {
            "tags": [],
            "needs_background": "light"
          }
        }
      ]
    },
    {
      "cell_type": "code",
      "metadata": {
        "id": "xurR_jvlWVQC",
        "colab_type": "code",
        "colab": {}
      },
      "source": [
        "X_train, X_test, y_train,y_test = train_test_split(X,y, random_state = 42)"
      ],
      "execution_count": 0,
      "outputs": []
    },
    {
      "cell_type": "markdown",
      "metadata": {
        "id": "UQ0lajPGWVQJ",
        "colab_type": "text"
      },
      "source": [
        "### 2. Set up a baseline model \n",
        "\n",
        "- Use one hidden layer with activation 'relu'\n",
        "- What activation should you use for output? Remember that this is a classification algorithm.\n",
        "- Compile the model\n",
        "- Fir the model, pick your epoch numbers and batch size. Use Test set as validation. \n",
        "- Visulaize train and test score as a function of epochs\n",
        "- You can also use the `predict` method of your model and import `metrics` module from ScikitLearn to check accuracy metris in your test data set\n",
        "- If you like you can use scikitlearn API for this section"
      ]
    },
    {
      "cell_type": "code",
      "metadata": {
        "id": "hQGv5UB2WVQL",
        "colab_type": "code",
        "colab": {}
      },
      "source": [
        "def baseline_model():\n",
        "    model = Sequential()\n",
        "    model.add(Dense(200, input_dim=X_train.shape[1],activation = 'relu'))\n",
        "    model.add(Dense(100,activation = 'relu'))\n",
        "    model.add(Dense(10,activation = 'relu'))\n",
        "    model.add(Dense(1, activation='sigmoid'))\n",
        "    model.compile(loss='binary_crossentropy', optimizer='adam', metrics=['accuracy'])\n",
        "    return model"
      ],
      "execution_count": 0,
      "outputs": []
    },
    {
      "cell_type": "code",
      "metadata": {
        "id": "Errodoc1WVQP",
        "colab_type": "code",
        "outputId": "bd3ed532-f11e-42bd-d0c5-c159a405ec46",
        "colab": {
          "base_uri": "https://localhost:8080/",
          "height": 35
        }
      },
      "source": [
        "#try batch size 200 and epochs 150 and use colab\n",
        "estimator=KerasClassifier(build_fn=baseline_model, batch_size=300, epochs=150,verbose=0)\n",
        "kfold=StratifiedKFold(n_splits=5)\n",
        "results=cross_val_score(estimator,X_train,y_train,cv=kfold)\n",
        "print(\"mean score: \", results.mean())"
      ],
      "execution_count": 0,
      "outputs": [
        {
          "output_type": "stream",
          "text": [
            "mean score:  0.9287466645240784\n"
          ],
          "name": "stdout"
        }
      ]
    },
    {
      "cell_type": "code",
      "metadata": {
        "id": "wexIQdkaWVQV",
        "colab_type": "code",
        "colab": {}
      },
      "source": [
        "estimator.fit(X_train, y_train)\n",
        "y_pred = estimator.predict(X_test)"
      ],
      "execution_count": 0,
      "outputs": []
    },
    {
      "cell_type": "code",
      "metadata": {
        "id": "bD424ynoWVQZ",
        "colab_type": "code",
        "outputId": "80b5707e-d60a-49fc-f276-039741b9a872",
        "colab": {
          "base_uri": "https://localhost:8080/",
          "height": 311
        }
      },
      "source": [
        "#Model evaluation report\n",
        "#confusion matrix\n",
        "print(\"Confusion matrix: \")\n",
        "print(confusion_matrix(y_test, y_pred))\n",
        "\n",
        "#precision=TP/(TP+FP)\n",
        "print(\"Precision score: \" , precision_score(y_test, y_pred))\n",
        "\n",
        "#recall=TP/(TP+FN)\n",
        "print(\"Recall score: \", recall_score(y_test, y_pred))\n",
        "\n",
        "#F1 score=TP/(TP+ (FP+FN/2)\n",
        "print(\"F1 score: \", f1_score(y_test, y_pred))\n",
        "\n",
        "print(\"Accuracy Score: \", accuracy_score(y_test, y_pred))\n",
        "print(classification_report(y_test, y_pred))"
      ],
      "execution_count": 0,
      "outputs": [
        {
          "output_type": "stream",
          "text": [
            "Confusion matrix: \n",
            "[[34383   642]\n",
            " [ 1981   494]]\n",
            "Precision score:  0.43485915492957744\n",
            "Recall score:  0.1995959595959596\n",
            "F1 score:  0.273608418720576\n",
            "Accuracy Score:  0.9300533333333333\n",
            "              precision    recall  f1-score   support\n",
            "\n",
            "           0       0.95      0.98      0.96     35025\n",
            "           1       0.43      0.20      0.27      2475\n",
            "\n",
            "    accuracy                           0.93     37500\n",
            "   macro avg       0.69      0.59      0.62     37500\n",
            "weighted avg       0.91      0.93      0.92     37500\n",
            "\n"
          ],
          "name": "stdout"
        }
      ]
    },
    {
      "cell_type": "markdown",
      "metadata": {
        "id": "W9zEoon0WVQf",
        "colab_type": "text"
      },
      "source": [
        "### 3. Controlling overfitting\n",
        "\n",
        "- Import `l2` fom `keras` and introduce `kernel_regularization` to both layers of your model\n",
        "- Run `0.75` dropout with `l2` regularization\n",
        "- In addition to two steps above, now include `batch_normalization`\n",
        "- At each step visualize how your model is responding"
      ]
    },
    {
      "cell_type": "code",
      "metadata": {
        "id": "R74wuKO7WVQi",
        "colab_type": "code",
        "outputId": "8906c019-0e5a-4e2c-a0d2-35851f7ac2e9",
        "colab": {
          "base_uri": "https://localhost:8080/",
          "height": 1000
        }
      },
      "source": [
        "#baseline\n",
        "model = Sequential()\n",
        "model.add(Dense(1000,input_dim=X_train.shape[1],activation='relu'))\n",
        "model.add(Dense(1,  activation='sigmoid'))\n",
        "model.compile(loss='binary_crossentropy', optimizer='adam', metrics=['accuracy'])\n",
        "history = model.fit(X_train, y_train, validation_data=(X_test, y_test), epochs=100, batch_size=1024, verbose=1)"
      ],
      "execution_count": 0,
      "outputs": [
        {
          "output_type": "stream",
          "text": [
            "Train on 112500 samples, validate on 37500 samples\n",
            "Epoch 1/100\n",
            "112500/112500 [==============================] - 0s 4us/step - loss: 0.2539 - accuracy: 0.9279 - val_loss: 0.1854 - val_accuracy: 0.9357\n",
            "Epoch 2/100\n",
            "112500/112500 [==============================] - 0s 3us/step - loss: 0.1843 - accuracy: 0.9354 - val_loss: 0.1805 - val_accuracy: 0.9362\n",
            "Epoch 3/100\n",
            "112500/112500 [==============================] - 0s 3us/step - loss: 0.1819 - accuracy: 0.9355 - val_loss: 0.1799 - val_accuracy: 0.9369\n",
            "Epoch 4/100\n",
            "112500/112500 [==============================] - 0s 3us/step - loss: 0.1814 - accuracy: 0.9356 - val_loss: 0.1795 - val_accuracy: 0.9367\n",
            "Epoch 5/100\n",
            "112500/112500 [==============================] - 0s 3us/step - loss: 0.1811 - accuracy: 0.9356 - val_loss: 0.1797 - val_accuracy: 0.9365\n",
            "Epoch 6/100\n",
            "112500/112500 [==============================] - 0s 3us/step - loss: 0.1809 - accuracy: 0.9357 - val_loss: 0.1796 - val_accuracy: 0.9362\n",
            "Epoch 7/100\n",
            "112500/112500 [==============================] - 0s 3us/step - loss: 0.1807 - accuracy: 0.9356 - val_loss: 0.1793 - val_accuracy: 0.9367\n",
            "Epoch 8/100\n",
            "112500/112500 [==============================] - 0s 3us/step - loss: 0.1807 - accuracy: 0.9357 - val_loss: 0.1794 - val_accuracy: 0.9365\n",
            "Epoch 9/100\n",
            "112500/112500 [==============================] - 0s 3us/step - loss: 0.1805 - accuracy: 0.9359 - val_loss: 0.1789 - val_accuracy: 0.9370\n",
            "Epoch 10/100\n",
            "112500/112500 [==============================] - 0s 3us/step - loss: 0.1804 - accuracy: 0.9358 - val_loss: 0.1789 - val_accuracy: 0.9365\n",
            "Epoch 11/100\n",
            "112500/112500 [==============================] - 0s 3us/step - loss: 0.1803 - accuracy: 0.9360 - val_loss: 0.1788 - val_accuracy: 0.9367\n",
            "Epoch 12/100\n",
            "112500/112500 [==============================] - 0s 3us/step - loss: 0.1801 - accuracy: 0.9358 - val_loss: 0.1793 - val_accuracy: 0.9365\n",
            "Epoch 13/100\n",
            "112500/112500 [==============================] - 0s 3us/step - loss: 0.1801 - accuracy: 0.9359 - val_loss: 0.1790 - val_accuracy: 0.9362\n",
            "Epoch 14/100\n",
            "112500/112500 [==============================] - 0s 3us/step - loss: 0.1801 - accuracy: 0.9357 - val_loss: 0.1788 - val_accuracy: 0.9367\n",
            "Epoch 15/100\n",
            "112500/112500 [==============================] - 0s 3us/step - loss: 0.1799 - accuracy: 0.9360 - val_loss: 0.1788 - val_accuracy: 0.9366\n",
            "Epoch 16/100\n",
            "112500/112500 [==============================] - 0s 3us/step - loss: 0.1799 - accuracy: 0.9358 - val_loss: 0.1791 - val_accuracy: 0.9365\n",
            "Epoch 17/100\n",
            "112500/112500 [==============================] - 0s 3us/step - loss: 0.1800 - accuracy: 0.9359 - val_loss: 0.1787 - val_accuracy: 0.9365\n",
            "Epoch 18/100\n",
            "112500/112500 [==============================] - 0s 3us/step - loss: 0.1797 - accuracy: 0.9361 - val_loss: 0.1785 - val_accuracy: 0.9367\n",
            "Epoch 19/100\n",
            "112500/112500 [==============================] - 0s 3us/step - loss: 0.1797 - accuracy: 0.9360 - val_loss: 0.1785 - val_accuracy: 0.9366\n",
            "Epoch 20/100\n",
            "112500/112500 [==============================] - 0s 3us/step - loss: 0.1796 - accuracy: 0.9361 - val_loss: 0.1784 - val_accuracy: 0.9370\n",
            "Epoch 21/100\n",
            "112500/112500 [==============================] - 0s 4us/step - loss: 0.1798 - accuracy: 0.9360 - val_loss: 0.1787 - val_accuracy: 0.9367\n",
            "Epoch 22/100\n",
            "112500/112500 [==============================] - 0s 4us/step - loss: 0.1794 - accuracy: 0.9360 - val_loss: 0.1786 - val_accuracy: 0.9368\n",
            "Epoch 23/100\n",
            "112500/112500 [==============================] - 0s 3us/step - loss: 0.1795 - accuracy: 0.9363 - val_loss: 0.1786 - val_accuracy: 0.9365\n",
            "Epoch 24/100\n",
            "112500/112500 [==============================] - 0s 4us/step - loss: 0.1794 - accuracy: 0.9362 - val_loss: 0.1789 - val_accuracy: 0.9364\n",
            "Epoch 25/100\n",
            "112500/112500 [==============================] - 0s 3us/step - loss: 0.1793 - accuracy: 0.9361 - val_loss: 0.1787 - val_accuracy: 0.9365\n",
            "Epoch 26/100\n",
            "112500/112500 [==============================] - 0s 3us/step - loss: 0.1792 - accuracy: 0.9364 - val_loss: 0.1786 - val_accuracy: 0.9365\n",
            "Epoch 27/100\n",
            "112500/112500 [==============================] - 0s 3us/step - loss: 0.1792 - accuracy: 0.9363 - val_loss: 0.1790 - val_accuracy: 0.9368\n",
            "Epoch 28/100\n",
            "112500/112500 [==============================] - 0s 4us/step - loss: 0.1795 - accuracy: 0.9363 - val_loss: 0.1785 - val_accuracy: 0.9363\n",
            "Epoch 29/100\n",
            "112500/112500 [==============================] - 0s 3us/step - loss: 0.1792 - accuracy: 0.9362 - val_loss: 0.1785 - val_accuracy: 0.9365\n",
            "Epoch 30/100\n",
            "112500/112500 [==============================] - 0s 3us/step - loss: 0.1792 - accuracy: 0.9361 - val_loss: 0.1789 - val_accuracy: 0.9366\n",
            "Epoch 31/100\n",
            "112500/112500 [==============================] - 0s 3us/step - loss: 0.1789 - accuracy: 0.9364 - val_loss: 0.1788 - val_accuracy: 0.9362\n",
            "Epoch 32/100\n",
            "112500/112500 [==============================] - 0s 3us/step - loss: 0.1789 - accuracy: 0.9364 - val_loss: 0.1786 - val_accuracy: 0.9365\n",
            "Epoch 33/100\n",
            "112500/112500 [==============================] - 0s 3us/step - loss: 0.1790 - accuracy: 0.9362 - val_loss: 0.1784 - val_accuracy: 0.9365\n",
            "Epoch 34/100\n",
            "112500/112500 [==============================] - 0s 3us/step - loss: 0.1789 - accuracy: 0.9365 - val_loss: 0.1789 - val_accuracy: 0.9363\n",
            "Epoch 35/100\n",
            "112500/112500 [==============================] - 0s 3us/step - loss: 0.1790 - accuracy: 0.9362 - val_loss: 0.1786 - val_accuracy: 0.9363\n",
            "Epoch 36/100\n",
            "112500/112500 [==============================] - 0s 3us/step - loss: 0.1789 - accuracy: 0.9364 - val_loss: 0.1787 - val_accuracy: 0.9362\n",
            "Epoch 37/100\n",
            "112500/112500 [==============================] - 0s 4us/step - loss: 0.1787 - accuracy: 0.9362 - val_loss: 0.1789 - val_accuracy: 0.9366\n",
            "Epoch 38/100\n",
            "112500/112500 [==============================] - 0s 3us/step - loss: 0.1788 - accuracy: 0.9363 - val_loss: 0.1784 - val_accuracy: 0.9361\n",
            "Epoch 39/100\n",
            "112500/112500 [==============================] - 0s 3us/step - loss: 0.1787 - accuracy: 0.9365 - val_loss: 0.1787 - val_accuracy: 0.9362\n",
            "Epoch 40/100\n",
            "112500/112500 [==============================] - 0s 3us/step - loss: 0.1789 - accuracy: 0.9364 - val_loss: 0.1793 - val_accuracy: 0.9362\n",
            "Epoch 41/100\n",
            "112500/112500 [==============================] - 0s 4us/step - loss: 0.1783 - accuracy: 0.9365 - val_loss: 0.1791 - val_accuracy: 0.9361\n",
            "Epoch 42/100\n",
            "112500/112500 [==============================] - 0s 3us/step - loss: 0.1785 - accuracy: 0.9363 - val_loss: 0.1792 - val_accuracy: 0.9362\n",
            "Epoch 43/100\n",
            "112500/112500 [==============================] - 0s 3us/step - loss: 0.1784 - accuracy: 0.9363 - val_loss: 0.1799 - val_accuracy: 0.9360\n",
            "Epoch 44/100\n",
            "112500/112500 [==============================] - 0s 3us/step - loss: 0.1785 - accuracy: 0.9365 - val_loss: 0.1784 - val_accuracy: 0.9361\n",
            "Epoch 45/100\n",
            "112500/112500 [==============================] - 0s 3us/step - loss: 0.1786 - accuracy: 0.9364 - val_loss: 0.1787 - val_accuracy: 0.9361\n",
            "Epoch 46/100\n",
            "112500/112500 [==============================] - 0s 3us/step - loss: 0.1782 - accuracy: 0.9365 - val_loss: 0.1787 - val_accuracy: 0.9354\n",
            "Epoch 47/100\n",
            "112500/112500 [==============================] - 0s 3us/step - loss: 0.1783 - accuracy: 0.9365 - val_loss: 0.1790 - val_accuracy: 0.9364\n",
            "Epoch 48/100\n",
            "112500/112500 [==============================] - 0s 3us/step - loss: 0.1784 - accuracy: 0.9367 - val_loss: 0.1785 - val_accuracy: 0.9367\n",
            "Epoch 49/100\n",
            "112500/112500 [==============================] - 0s 3us/step - loss: 0.1781 - accuracy: 0.9368 - val_loss: 0.1784 - val_accuracy: 0.9363\n",
            "Epoch 50/100\n",
            "112500/112500 [==============================] - 0s 3us/step - loss: 0.1781 - accuracy: 0.9365 - val_loss: 0.1784 - val_accuracy: 0.9362\n",
            "Epoch 51/100\n",
            "112500/112500 [==============================] - 0s 3us/step - loss: 0.1783 - accuracy: 0.9365 - val_loss: 0.1784 - val_accuracy: 0.9363\n",
            "Epoch 52/100\n",
            "112500/112500 [==============================] - 0s 3us/step - loss: 0.1779 - accuracy: 0.9367 - val_loss: 0.1793 - val_accuracy: 0.9361\n",
            "Epoch 53/100\n",
            "112500/112500 [==============================] - 0s 3us/step - loss: 0.1781 - accuracy: 0.9364 - val_loss: 0.1785 - val_accuracy: 0.9363\n",
            "Epoch 54/100\n",
            "112500/112500 [==============================] - 0s 3us/step - loss: 0.1779 - accuracy: 0.9368 - val_loss: 0.1784 - val_accuracy: 0.9358\n",
            "Epoch 55/100\n",
            "112500/112500 [==============================] - 0s 3us/step - loss: 0.1779 - accuracy: 0.9366 - val_loss: 0.1785 - val_accuracy: 0.9359\n",
            "Epoch 56/100\n",
            "112500/112500 [==============================] - 0s 3us/step - loss: 0.1778 - accuracy: 0.9366 - val_loss: 0.1790 - val_accuracy: 0.9358\n",
            "Epoch 57/100\n",
            "112500/112500 [==============================] - 0s 3us/step - loss: 0.1779 - accuracy: 0.9365 - val_loss: 0.1784 - val_accuracy: 0.9362\n",
            "Epoch 58/100\n",
            "112500/112500 [==============================] - 0s 3us/step - loss: 0.1778 - accuracy: 0.9367 - val_loss: 0.1786 - val_accuracy: 0.9363\n",
            "Epoch 59/100\n",
            "112500/112500 [==============================] - 0s 3us/step - loss: 0.1778 - accuracy: 0.9366 - val_loss: 0.1785 - val_accuracy: 0.9357\n",
            "Epoch 60/100\n",
            "112500/112500 [==============================] - 0s 3us/step - loss: 0.1779 - accuracy: 0.9367 - val_loss: 0.1784 - val_accuracy: 0.9356\n",
            "Epoch 61/100\n",
            "112500/112500 [==============================] - 0s 3us/step - loss: 0.1779 - accuracy: 0.9365 - val_loss: 0.1793 - val_accuracy: 0.9359\n",
            "Epoch 62/100\n",
            "112500/112500 [==============================] - 0s 3us/step - loss: 0.1776 - accuracy: 0.9368 - val_loss: 0.1785 - val_accuracy: 0.9363\n",
            "Epoch 63/100\n",
            "112500/112500 [==============================] - 0s 3us/step - loss: 0.1776 - accuracy: 0.9369 - val_loss: 0.1789 - val_accuracy: 0.9361\n",
            "Epoch 64/100\n",
            "112500/112500 [==============================] - 0s 3us/step - loss: 0.1775 - accuracy: 0.9367 - val_loss: 0.1785 - val_accuracy: 0.9362\n",
            "Epoch 65/100\n",
            "112500/112500 [==============================] - 0s 3us/step - loss: 0.1775 - accuracy: 0.9367 - val_loss: 0.1791 - val_accuracy: 0.9366\n",
            "Epoch 66/100\n",
            "112500/112500 [==============================] - 0s 3us/step - loss: 0.1774 - accuracy: 0.9366 - val_loss: 0.1789 - val_accuracy: 0.9359\n",
            "Epoch 67/100\n",
            "112500/112500 [==============================] - 0s 3us/step - loss: 0.1774 - accuracy: 0.9366 - val_loss: 0.1787 - val_accuracy: 0.9361\n",
            "Epoch 68/100\n",
            "112500/112500 [==============================] - 0s 3us/step - loss: 0.1773 - accuracy: 0.9366 - val_loss: 0.1785 - val_accuracy: 0.9360\n",
            "Epoch 69/100\n",
            "112500/112500 [==============================] - 0s 3us/step - loss: 0.1773 - accuracy: 0.9370 - val_loss: 0.1786 - val_accuracy: 0.9362\n",
            "Epoch 70/100\n",
            "112500/112500 [==============================] - 0s 3us/step - loss: 0.1772 - accuracy: 0.9367 - val_loss: 0.1785 - val_accuracy: 0.9359\n",
            "Epoch 71/100\n",
            "112500/112500 [==============================] - 0s 3us/step - loss: 0.1773 - accuracy: 0.9367 - val_loss: 0.1787 - val_accuracy: 0.9360\n",
            "Epoch 72/100\n",
            "112500/112500 [==============================] - 0s 3us/step - loss: 0.1774 - accuracy: 0.9367 - val_loss: 0.1786 - val_accuracy: 0.9360\n",
            "Epoch 73/100\n",
            "112500/112500 [==============================] - 0s 3us/step - loss: 0.1771 - accuracy: 0.9369 - val_loss: 0.1784 - val_accuracy: 0.9361\n",
            "Epoch 74/100\n",
            "112500/112500 [==============================] - 0s 3us/step - loss: 0.1772 - accuracy: 0.9370 - val_loss: 0.1786 - val_accuracy: 0.9361\n",
            "Epoch 75/100\n",
            "112500/112500 [==============================] - 0s 3us/step - loss: 0.1772 - accuracy: 0.9369 - val_loss: 0.1784 - val_accuracy: 0.9357\n",
            "Epoch 76/100\n",
            "112500/112500 [==============================] - 0s 4us/step - loss: 0.1768 - accuracy: 0.9370 - val_loss: 0.1784 - val_accuracy: 0.9359\n",
            "Epoch 77/100\n",
            "112500/112500 [==============================] - 0s 3us/step - loss: 0.1769 - accuracy: 0.9369 - val_loss: 0.1786 - val_accuracy: 0.9359\n",
            "Epoch 78/100\n",
            "112500/112500 [==============================] - 0s 3us/step - loss: 0.1771 - accuracy: 0.9369 - val_loss: 0.1809 - val_accuracy: 0.9360\n",
            "Epoch 79/100\n",
            "112500/112500 [==============================] - 0s 4us/step - loss: 0.1769 - accuracy: 0.9372 - val_loss: 0.1788 - val_accuracy: 0.9360\n",
            "Epoch 80/100\n",
            "112500/112500 [==============================] - 0s 3us/step - loss: 0.1768 - accuracy: 0.9368 - val_loss: 0.1788 - val_accuracy: 0.9358\n",
            "Epoch 81/100\n",
            "112500/112500 [==============================] - 0s 3us/step - loss: 0.1767 - accuracy: 0.9371 - val_loss: 0.1789 - val_accuracy: 0.9357\n",
            "Epoch 82/100\n",
            "112500/112500 [==============================] - 0s 3us/step - loss: 0.1767 - accuracy: 0.9370 - val_loss: 0.1787 - val_accuracy: 0.9360\n",
            "Epoch 83/100\n",
            "112500/112500 [==============================] - 0s 3us/step - loss: 0.1765 - accuracy: 0.9370 - val_loss: 0.1787 - val_accuracy: 0.9364\n",
            "Epoch 84/100\n",
            "112500/112500 [==============================] - 0s 4us/step - loss: 0.1768 - accuracy: 0.9369 - val_loss: 0.1787 - val_accuracy: 0.9357\n",
            "Epoch 85/100\n",
            "112500/112500 [==============================] - 0s 4us/step - loss: 0.1766 - accuracy: 0.9372 - val_loss: 0.1790 - val_accuracy: 0.9358\n",
            "Epoch 86/100\n",
            "112500/112500 [==============================] - 0s 4us/step - loss: 0.1764 - accuracy: 0.9372 - val_loss: 0.1794 - val_accuracy: 0.9357\n",
            "Epoch 87/100\n",
            "112500/112500 [==============================] - 0s 3us/step - loss: 0.1764 - accuracy: 0.9372 - val_loss: 0.1787 - val_accuracy: 0.9361\n",
            "Epoch 88/100\n",
            "112500/112500 [==============================] - 0s 3us/step - loss: 0.1767 - accuracy: 0.9367 - val_loss: 0.1791 - val_accuracy: 0.9361\n",
            "Epoch 89/100\n",
            "112500/112500 [==============================] - 0s 4us/step - loss: 0.1764 - accuracy: 0.9370 - val_loss: 0.1786 - val_accuracy: 0.9361\n",
            "Epoch 90/100\n",
            "112500/112500 [==============================] - 0s 4us/step - loss: 0.1766 - accuracy: 0.9372 - val_loss: 0.1787 - val_accuracy: 0.9357\n",
            "Epoch 91/100\n",
            "112500/112500 [==============================] - 0s 4us/step - loss: 0.1763 - accuracy: 0.9372 - val_loss: 0.1789 - val_accuracy: 0.9358\n",
            "Epoch 92/100\n",
            "112500/112500 [==============================] - 0s 3us/step - loss: 0.1767 - accuracy: 0.9371 - val_loss: 0.1788 - val_accuracy: 0.9359\n",
            "Epoch 93/100\n",
            "112500/112500 [==============================] - 0s 3us/step - loss: 0.1762 - accuracy: 0.9373 - val_loss: 0.1790 - val_accuracy: 0.9359\n",
            "Epoch 94/100\n",
            "112500/112500 [==============================] - 0s 4us/step - loss: 0.1762 - accuracy: 0.9370 - val_loss: 0.1790 - val_accuracy: 0.9358\n",
            "Epoch 95/100\n",
            "112500/112500 [==============================] - 0s 3us/step - loss: 0.1762 - accuracy: 0.9372 - val_loss: 0.1794 - val_accuracy: 0.9358\n",
            "Epoch 96/100\n",
            "112500/112500 [==============================] - 0s 3us/step - loss: 0.1761 - accuracy: 0.9372 - val_loss: 0.1792 - val_accuracy: 0.9359\n",
            "Epoch 97/100\n",
            "112500/112500 [==============================] - 0s 3us/step - loss: 0.1761 - accuracy: 0.9372 - val_loss: 0.1789 - val_accuracy: 0.9359\n",
            "Epoch 98/100\n",
            "112500/112500 [==============================] - 0s 3us/step - loss: 0.1762 - accuracy: 0.9373 - val_loss: 0.1789 - val_accuracy: 0.9359\n",
            "Epoch 99/100\n",
            "112500/112500 [==============================] - 0s 3us/step - loss: 0.1760 - accuracy: 0.9374 - val_loss: 0.1789 - val_accuracy: 0.9358\n",
            "Epoch 100/100\n",
            "112500/112500 [==============================] - 0s 3us/step - loss: 0.1760 - accuracy: 0.9371 - val_loss: 0.1791 - val_accuracy: 0.9361\n"
          ],
          "name": "stdout"
        }
      ]
    },
    {
      "cell_type": "code",
      "metadata": {
        "id": "IPsS6kbBWVQl",
        "colab_type": "code",
        "outputId": "bc074f58-278b-45d4-cfaa-cfdc4a2ed123",
        "colab": {
          "base_uri": "https://localhost:8080/",
          "height": 177
        }
      },
      "source": [
        "plt.subplot(211)\n",
        "plt.plot(history.history['accuracy'])\n",
        "plt.plot(history.history['val_accuracy'])\n",
        "plt.title('model accuracy with baseline')\n",
        "plt.ylabel('accuracy')\n",
        "plt.xlabel('epoch')\n",
        "plt.legend(['train', 'test'], loc='lower right')\n",
        "plt.show()"
      ],
      "execution_count": 0,
      "outputs": [
        {
          "output_type": "display_data",
          "data": {
            "image/png": "[encoded data removed]",
            "text/plain": [
              "<Figure size 432x288 with 1 Axes>"
            ]
          },
          "metadata": {
            "tags": [],
            "needs_background": "light"
          }
        }
      ]
    },
    {
      "cell_type": "code",
      "metadata": {
        "id": "TTbkrL64WVQr",
        "colab_type": "code",
        "outputId": "9f8d15a3-2022-4086-b072-d10170206a0b",
        "colab": {
          "base_uri": "https://localhost:8080/",
          "height": 1000
        }
      },
      "source": [
        "#kernel regularization\n",
        "model = Sequential()\n",
        "model.add(Dense(1000,input_dim=X_train.shape[1],activation='relu',kernel_regularizer=l2(0.01)))\n",
        "model.add(Dense(1,  activation='sigmoid',kernel_regularizer=l2(0.01)))\n",
        "model.compile(loss='binary_crossentropy', optimizer='adam', metrics=['accuracy'])\n",
        "history = model.fit(X_train, y_train, validation_data=(X_test, y_test), epochs=100, batch_size=1024, verbose=1)"
      ],
      "execution_count": 0,
      "outputs": [
        {
          "output_type": "stream",
          "text": [
            "Train on 112500 samples, validate on 37500 samples\n",
            "Epoch 1/100\n",
            "112500/112500 [==============================] - 1s 5us/step - loss: 0.3734 - accuracy: 0.9317 - val_loss: 0.2504 - val_accuracy: 0.9337\n",
            "Epoch 2/100\n",
            "112500/112500 [==============================] - 0s 4us/step - loss: 0.2404 - accuracy: 0.9329 - val_loss: 0.2314 - val_accuracy: 0.9340\n",
            "Epoch 3/100\n",
            "112500/112500 [==============================] - 0s 4us/step - loss: 0.2320 - accuracy: 0.9329 - val_loss: 0.2286 - val_accuracy: 0.9340\n",
            "Epoch 4/100\n",
            "112500/112500 [==============================] - 0s 3us/step - loss: 0.2304 - accuracy: 0.9329 - val_loss: 0.2277 - val_accuracy: 0.9340\n",
            "Epoch 5/100\n",
            "112500/112500 [==============================] - 0s 4us/step - loss: 0.2300 - accuracy: 0.9329 - val_loss: 0.2275 - val_accuracy: 0.9340\n",
            "Epoch 6/100\n",
            "112500/112500 [==============================] - 0s 3us/step - loss: 0.2298 - accuracy: 0.9329 - val_loss: 0.2275 - val_accuracy: 0.9340\n",
            "Epoch 7/100\n",
            "112500/112500 [==============================] - 0s 4us/step - loss: 0.2298 - accuracy: 0.9329 - val_loss: 0.2276 - val_accuracy: 0.9340\n",
            "Epoch 8/100\n",
            "112500/112500 [==============================] - 0s 4us/step - loss: 0.2298 - accuracy: 0.9329 - val_loss: 0.2274 - val_accuracy: 0.9340\n",
            "Epoch 9/100\n",
            "112500/112500 [==============================] - 0s 4us/step - loss: 0.2298 - accuracy: 0.9329 - val_loss: 0.2274 - val_accuracy: 0.9340\n",
            "Epoch 10/100\n",
            "112500/112500 [==============================] - 0s 4us/step - loss: 0.2298 - accuracy: 0.9329 - val_loss: 0.2274 - val_accuracy: 0.9340\n",
            "Epoch 11/100\n",
            "112500/112500 [==============================] - 0s 4us/step - loss: 0.2298 - accuracy: 0.9329 - val_loss: 0.2275 - val_accuracy: 0.9340\n",
            "Epoch 12/100\n",
            "112500/112500 [==============================] - 0s 4us/step - loss: 0.2299 - accuracy: 0.9329 - val_loss: 0.2275 - val_accuracy: 0.9340\n",
            "Epoch 13/100\n",
            "112500/112500 [==============================] - 0s 4us/step - loss: 0.2301 - accuracy: 0.9329 - val_loss: 0.2277 - val_accuracy: 0.9340\n",
            "Epoch 14/100\n",
            "112500/112500 [==============================] - 0s 4us/step - loss: 0.2298 - accuracy: 0.9329 - val_loss: 0.2275 - val_accuracy: 0.9340\n",
            "Epoch 15/100\n",
            "112500/112500 [==============================] - 0s 4us/step - loss: 0.2298 - accuracy: 0.9329 - val_loss: 0.2285 - val_accuracy: 0.9340\n",
            "Epoch 16/100\n",
            "112500/112500 [==============================] - 0s 4us/step - loss: 0.2300 - accuracy: 0.9329 - val_loss: 0.2275 - val_accuracy: 0.9340\n",
            "Epoch 17/100\n",
            "112500/112500 [==============================] - 0s 4us/step - loss: 0.2298 - accuracy: 0.9329 - val_loss: 0.2274 - val_accuracy: 0.9340\n",
            "Epoch 18/100\n",
            "112500/112500 [==============================] - 0s 4us/step - loss: 0.2300 - accuracy: 0.9329 - val_loss: 0.2274 - val_accuracy: 0.9340\n",
            "Epoch 19/100\n",
            "112500/112500 [==============================] - 0s 4us/step - loss: 0.2298 - accuracy: 0.9329 - val_loss: 0.2274 - val_accuracy: 0.9340\n",
            "Epoch 20/100\n",
            "112500/112500 [==============================] - 0s 3us/step - loss: 0.2299 - accuracy: 0.9329 - val_loss: 0.2275 - val_accuracy: 0.9340\n",
            "Epoch 21/100\n",
            "112500/112500 [==============================] - 0s 3us/step - loss: 0.2299 - accuracy: 0.9329 - val_loss: 0.2277 - val_accuracy: 0.9340\n",
            "Epoch 22/100\n",
            "112500/112500 [==============================] - 0s 4us/step - loss: 0.2298 - accuracy: 0.9329 - val_loss: 0.2274 - val_accuracy: 0.9340\n",
            "Epoch 23/100\n",
            "112500/112500 [==============================] - 0s 3us/step - loss: 0.2298 - accuracy: 0.9329 - val_loss: 0.2275 - val_accuracy: 0.9340\n",
            "Epoch 24/100\n",
            "112500/112500 [==============================] - 0s 3us/step - loss: 0.2299 - accuracy: 0.9329 - val_loss: 0.2277 - val_accuracy: 0.9340\n",
            "Epoch 25/100\n",
            "112500/112500 [==============================] - 0s 4us/step - loss: 0.2301 - accuracy: 0.9329 - val_loss: 0.2279 - val_accuracy: 0.9340\n",
            "Epoch 26/100\n",
            "112500/112500 [==============================] - 0s 3us/step - loss: 0.2301 - accuracy: 0.9329 - val_loss: 0.2276 - val_accuracy: 0.9340\n",
            "Epoch 27/100\n",
            "112500/112500 [==============================] - 0s 3us/step - loss: 0.2298 - accuracy: 0.9329 - val_loss: 0.2274 - val_accuracy: 0.9340\n",
            "Epoch 28/100\n",
            "112500/112500 [==============================] - 0s 3us/step - loss: 0.2299 - accuracy: 0.9329 - val_loss: 0.2274 - val_accuracy: 0.9340\n",
            "Epoch 29/100\n",
            "112500/112500 [==============================] - 0s 3us/step - loss: 0.2299 - accuracy: 0.9329 - val_loss: 0.2275 - val_accuracy: 0.9340\n",
            "Epoch 30/100\n",
            "112500/112500 [==============================] - 0s 4us/step - loss: 0.2298 - accuracy: 0.9329 - val_loss: 0.2276 - val_accuracy: 0.9340\n",
            "Epoch 31/100\n",
            "112500/112500 [==============================] - 0s 4us/step - loss: 0.2298 - accuracy: 0.9329 - val_loss: 0.2274 - val_accuracy: 0.9340\n",
            "Epoch 32/100\n",
            "112500/112500 [==============================] - 0s 4us/step - loss: 0.2299 - accuracy: 0.9329 - val_loss: 0.2274 - val_accuracy: 0.9340\n",
            "Epoch 33/100\n",
            "112500/112500 [==============================] - 0s 3us/step - loss: 0.2299 - accuracy: 0.9329 - val_loss: 0.2277 - val_accuracy: 0.9340\n",
            "Epoch 34/100\n",
            "112500/112500 [==============================] - 0s 4us/step - loss: 0.2298 - accuracy: 0.9329 - val_loss: 0.2282 - val_accuracy: 0.9340\n",
            "Epoch 35/100\n",
            "112500/112500 [==============================] - 0s 4us/step - loss: 0.2301 - accuracy: 0.9329 - val_loss: 0.2275 - val_accuracy: 0.9340\n",
            "Epoch 36/100\n",
            "112500/112500 [==============================] - 0s 4us/step - loss: 0.2300 - accuracy: 0.9329 - val_loss: 0.2275 - val_accuracy: 0.9340\n",
            "Epoch 37/100\n",
            "112500/112500 [==============================] - 0s 4us/step - loss: 0.2299 - accuracy: 0.9329 - val_loss: 0.2275 - val_accuracy: 0.9340\n",
            "Epoch 38/100\n",
            "112500/112500 [==============================] - 0s 4us/step - loss: 0.2299 - accuracy: 0.9329 - val_loss: 0.2276 - val_accuracy: 0.9340\n",
            "Epoch 39/100\n",
            "112500/112500 [==============================] - 0s 4us/step - loss: 0.2300 - accuracy: 0.9329 - val_loss: 0.2273 - val_accuracy: 0.9340\n",
            "Epoch 40/100\n",
            "112500/112500 [==============================] - 0s 3us/step - loss: 0.2298 - accuracy: 0.9329 - val_loss: 0.2279 - val_accuracy: 0.9340\n",
            "Epoch 41/100\n",
            "112500/112500 [==============================] - 0s 4us/step - loss: 0.2298 - accuracy: 0.9329 - val_loss: 0.2275 - val_accuracy: 0.9340\n",
            "Epoch 42/100\n",
            "112500/112500 [==============================] - 0s 4us/step - loss: 0.2300 - accuracy: 0.9329 - val_loss: 0.2275 - val_accuracy: 0.9340\n",
            "Epoch 43/100\n",
            "112500/112500 [==============================] - 0s 4us/step - loss: 0.2298 - accuracy: 0.9329 - val_loss: 0.2274 - val_accuracy: 0.9340\n",
            "Epoch 44/100\n",
            "112500/112500 [==============================] - 0s 4us/step - loss: 0.2298 - accuracy: 0.9329 - val_loss: 0.2275 - val_accuracy: 0.9340\n",
            "Epoch 45/100\n",
            "112500/112500 [==============================] - 0s 4us/step - loss: 0.2298 - accuracy: 0.9329 - val_loss: 0.2277 - val_accuracy: 0.9340\n",
            "Epoch 46/100\n",
            "112500/112500 [==============================] - 0s 4us/step - loss: 0.2299 - accuracy: 0.9329 - val_loss: 0.2274 - val_accuracy: 0.9340\n",
            "Epoch 47/100\n",
            "112500/112500 [==============================] - 0s 4us/step - loss: 0.2299 - accuracy: 0.9329 - val_loss: 0.2277 - val_accuracy: 0.9340\n",
            "Epoch 48/100\n",
            "112500/112500 [==============================] - 0s 4us/step - loss: 0.2298 - accuracy: 0.9329 - val_loss: 0.2276 - val_accuracy: 0.9340\n",
            "Epoch 49/100\n",
            "112500/112500 [==============================] - 0s 4us/step - loss: 0.2300 - accuracy: 0.9329 - val_loss: 0.2277 - val_accuracy: 0.9340\n",
            "Epoch 50/100\n",
            "112500/112500 [==============================] - 0s 4us/step - loss: 0.2299 - accuracy: 0.9329 - val_loss: 0.2274 - val_accuracy: 0.9340\n",
            "Epoch 51/100\n",
            "112500/112500 [==============================] - 0s 4us/step - loss: 0.2298 - accuracy: 0.9329 - val_loss: 0.2273 - val_accuracy: 0.9340\n",
            "Epoch 52/100\n",
            "112500/112500 [==============================] - 0s 4us/step - loss: 0.2300 - accuracy: 0.9329 - val_loss: 0.2274 - val_accuracy: 0.9340\n",
            "Epoch 53/100\n",
            "112500/112500 [==============================] - 0s 4us/step - loss: 0.2298 - accuracy: 0.9329 - val_loss: 0.2275 - val_accuracy: 0.9340\n",
            "Epoch 54/100\n",
            "112500/112500 [==============================] - 0s 4us/step - loss: 0.2299 - accuracy: 0.9329 - val_loss: 0.2277 - val_accuracy: 0.9340\n",
            "Epoch 55/100\n",
            "112500/112500 [==============================] - 0s 4us/step - loss: 0.2299 - accuracy: 0.9329 - val_loss: 0.2278 - val_accuracy: 0.9340\n",
            "Epoch 56/100\n",
            "112500/112500 [==============================] - 0s 4us/step - loss: 0.2299 - accuracy: 0.9329 - val_loss: 0.2274 - val_accuracy: 0.9340\n",
            "Epoch 57/100\n",
            "112500/112500 [==============================] - 0s 4us/step - loss: 0.2299 - accuracy: 0.9329 - val_loss: 0.2275 - val_accuracy: 0.9340\n",
            "Epoch 58/100\n",
            "112500/112500 [==============================] - 0s 3us/step - loss: 0.2298 - accuracy: 0.9329 - val_loss: 0.2277 - val_accuracy: 0.9340\n",
            "Epoch 59/100\n",
            "112500/112500 [==============================] - 0s 4us/step - loss: 0.2299 - accuracy: 0.9329 - val_loss: 0.2277 - val_accuracy: 0.9340\n",
            "Epoch 60/100\n",
            "112500/112500 [==============================] - 0s 3us/step - loss: 0.2299 - accuracy: 0.9329 - val_loss: 0.2277 - val_accuracy: 0.9340\n",
            "Epoch 61/100\n",
            "112500/112500 [==============================] - 0s 4us/step - loss: 0.2298 - accuracy: 0.9329 - val_loss: 0.2276 - val_accuracy: 0.9340\n",
            "Epoch 62/100\n",
            "112500/112500 [==============================] - 0s 4us/step - loss: 0.2298 - accuracy: 0.9329 - val_loss: 0.2275 - val_accuracy: 0.9340\n",
            "Epoch 63/100\n",
            "112500/112500 [==============================] - 0s 4us/step - loss: 0.2299 - accuracy: 0.9329 - val_loss: 0.2274 - val_accuracy: 0.9340\n",
            "Epoch 64/100\n",
            "112500/112500 [==============================] - 0s 4us/step - loss: 0.2298 - accuracy: 0.9329 - val_loss: 0.2274 - val_accuracy: 0.9340\n",
            "Epoch 65/100\n",
            "112500/112500 [==============================] - 0s 3us/step - loss: 0.2301 - accuracy: 0.9329 - val_loss: 0.2276 - val_accuracy: 0.9340\n",
            "Epoch 66/100\n",
            "112500/112500 [==============================] - 0s 4us/step - loss: 0.2299 - accuracy: 0.9329 - val_loss: 0.2274 - val_accuracy: 0.9340\n",
            "Epoch 67/100\n",
            "112500/112500 [==============================] - 0s 4us/step - loss: 0.2298 - accuracy: 0.9329 - val_loss: 0.2275 - val_accuracy: 0.9340\n",
            "Epoch 68/100\n",
            "112500/112500 [==============================] - 0s 3us/step - loss: 0.2299 - accuracy: 0.9329 - val_loss: 0.2274 - val_accuracy: 0.9340\n",
            "Epoch 69/100\n",
            "112500/112500 [==============================] - 0s 4us/step - loss: 0.2299 - accuracy: 0.9329 - val_loss: 0.2274 - val_accuracy: 0.9340\n",
            "Epoch 70/100\n",
            "112500/112500 [==============================] - 0s 4us/step - loss: 0.2298 - accuracy: 0.9329 - val_loss: 0.2274 - val_accuracy: 0.9340\n",
            "Epoch 71/100\n",
            "112500/112500 [==============================] - 0s 4us/step - loss: 0.2298 - accuracy: 0.9329 - val_loss: 0.2275 - val_accuracy: 0.9340\n",
            "Epoch 72/100\n",
            "112500/112500 [==============================] - 0s 4us/step - loss: 0.2298 - accuracy: 0.9329 - val_loss: 0.2280 - val_accuracy: 0.9340\n",
            "Epoch 73/100\n",
            "112500/112500 [==============================] - 0s 4us/step - loss: 0.2300 - accuracy: 0.9329 - val_loss: 0.2274 - val_accuracy: 0.9340\n",
            "Epoch 74/100\n",
            "112500/112500 [==============================] - 0s 4us/step - loss: 0.2298 - accuracy: 0.9329 - val_loss: 0.2274 - val_accuracy: 0.9340\n",
            "Epoch 75/100\n",
            "112500/112500 [==============================] - 0s 4us/step - loss: 0.2299 - accuracy: 0.9329 - val_loss: 0.2280 - val_accuracy: 0.9340\n",
            "Epoch 76/100\n",
            "112500/112500 [==============================] - 0s 4us/step - loss: 0.2299 - accuracy: 0.9329 - val_loss: 0.2275 - val_accuracy: 0.9340\n",
            "Epoch 77/100\n",
            "112500/112500 [==============================] - 0s 4us/step - loss: 0.2298 - accuracy: 0.9329 - val_loss: 0.2274 - val_accuracy: 0.9340\n",
            "Epoch 78/100\n",
            "112500/112500 [==============================] - 0s 4us/step - loss: 0.2299 - accuracy: 0.9329 - val_loss: 0.2275 - val_accuracy: 0.9340\n",
            "Epoch 79/100\n",
            "112500/112500 [==============================] - 0s 4us/step - loss: 0.2299 - accuracy: 0.9329 - val_loss: 0.2275 - val_accuracy: 0.9340\n",
            "Epoch 80/100\n",
            "112500/112500 [==============================] - 0s 4us/step - loss: 0.2299 - accuracy: 0.9329 - val_loss: 0.2274 - val_accuracy: 0.9340\n",
            "Epoch 81/100\n",
            "112500/112500 [==============================] - 0s 4us/step - loss: 0.2299 - accuracy: 0.9329 - val_loss: 0.2289 - val_accuracy: 0.9340\n",
            "Epoch 82/100\n",
            "112500/112500 [==============================] - 0s 4us/step - loss: 0.2299 - accuracy: 0.9329 - val_loss: 0.2273 - val_accuracy: 0.9340\n",
            "Epoch 83/100\n",
            "112500/112500 [==============================] - 0s 4us/step - loss: 0.2298 - accuracy: 0.9329 - val_loss: 0.2275 - val_accuracy: 0.9340\n",
            "Epoch 84/100\n",
            "112500/112500 [==============================] - 0s 3us/step - loss: 0.2298 - accuracy: 0.9329 - val_loss: 0.2273 - val_accuracy: 0.9340\n",
            "Epoch 85/100\n",
            "112500/112500 [==============================] - 0s 4us/step - loss: 0.2298 - accuracy: 0.9329 - val_loss: 0.2275 - val_accuracy: 0.9340\n",
            "Epoch 86/100\n",
            "112500/112500 [==============================] - 0s 4us/step - loss: 0.2298 - accuracy: 0.9329 - val_loss: 0.2273 - val_accuracy: 0.9340\n",
            "Epoch 87/100\n",
            "112500/112500 [==============================] - 0s 4us/step - loss: 0.2299 - accuracy: 0.9329 - val_loss: 0.2273 - val_accuracy: 0.9340\n",
            "Epoch 88/100\n",
            "112500/112500 [==============================] - 0s 4us/step - loss: 0.2299 - accuracy: 0.9329 - val_loss: 0.2276 - val_accuracy: 0.9340\n",
            "Epoch 89/100\n",
            "112500/112500 [==============================] - 0s 4us/step - loss: 0.2299 - accuracy: 0.9329 - val_loss: 0.2273 - val_accuracy: 0.9340\n",
            "Epoch 90/100\n",
            "112500/112500 [==============================] - 0s 4us/step - loss: 0.2298 - accuracy: 0.9329 - val_loss: 0.2275 - val_accuracy: 0.9340\n",
            "Epoch 91/100\n",
            "112500/112500 [==============================] - 0s 4us/step - loss: 0.2298 - accuracy: 0.9329 - val_loss: 0.2276 - val_accuracy: 0.9340\n",
            "Epoch 92/100\n",
            "112500/112500 [==============================] - 0s 4us/step - loss: 0.2297 - accuracy: 0.9329 - val_loss: 0.2273 - val_accuracy: 0.9340\n",
            "Epoch 93/100\n",
            "112500/112500 [==============================] - 0s 4us/step - loss: 0.2297 - accuracy: 0.9329 - val_loss: 0.2275 - val_accuracy: 0.9340\n",
            "Epoch 94/100\n",
            "112500/112500 [==============================] - 0s 4us/step - loss: 0.2299 - accuracy: 0.9329 - val_loss: 0.2275 - val_accuracy: 0.9340\n",
            "Epoch 95/100\n",
            "112500/112500 [==============================] - 0s 4us/step - loss: 0.2298 - accuracy: 0.9329 - val_loss: 0.2274 - val_accuracy: 0.9340\n",
            "Epoch 96/100\n",
            "112500/112500 [==============================] - 0s 3us/step - loss: 0.2299 - accuracy: 0.9329 - val_loss: 0.2273 - val_accuracy: 0.9340\n",
            "Epoch 97/100\n",
            "112500/112500 [==============================] - 0s 4us/step - loss: 0.2298 - accuracy: 0.9329 - val_loss: 0.2273 - val_accuracy: 0.9340\n",
            "Epoch 98/100\n",
            "112500/112500 [==============================] - 0s 4us/step - loss: 0.2297 - accuracy: 0.9329 - val_loss: 0.2274 - val_accuracy: 0.9340\n",
            "Epoch 99/100\n",
            "112500/112500 [==============================] - 0s 3us/step - loss: 0.2298 - accuracy: 0.9329 - val_loss: 0.2274 - val_accuracy: 0.9340\n",
            "Epoch 100/100\n",
            "112500/112500 [==============================] - 0s 4us/step - loss: 0.2298 - accuracy: 0.9329 - val_loss: 0.2276 - val_accuracy: 0.9340\n"
          ],
          "name": "stdout"
        }
      ]
    },
    {
      "cell_type": "code",
      "metadata": {
        "id": "0N3opE-LWVQw",
        "colab_type": "code",
        "outputId": "2f75b2dd-9f18-4b95-ec06-e435faa864dd",
        "colab": {
          "base_uri": "https://localhost:8080/",
          "height": 177
        }
      },
      "source": [
        "plt.subplot(211)\n",
        "plt.plot(history.history['accuracy'])\n",
        "plt.plot(history.history['val_accuracy'])\n",
        "plt.title('model accuracy with l2 regularization')\n",
        "plt.ylabel('accuracy')\n",
        "plt.xlabel('epoch')\n",
        "plt.legend(['train', 'test'], loc='lower right')\n",
        "plt.show()"
      ],
      "execution_count": 0,
      "outputs": [
        {
          "output_type": "display_data",
          "data": {
            "image/png": "[encoded data removed]",
            "text/plain": [
              "<Figure size 432x288 with 1 Axes>"
            ]
          },
          "metadata": {
            "tags": [],
            "needs_background": "light"
          }
        }
      ]
    },
    {
      "cell_type": "code",
      "metadata": {
        "id": "jStNUP9BWVQz",
        "colab_type": "code",
        "outputId": "c61d657a-2f9a-42d7-8055-e0dab4fb707a",
        "colab": {
          "base_uri": "https://localhost:8080/",
          "height": 1000
        }
      },
      "source": [
        "#dropout\n",
        "model = Sequential()\n",
        "model.add(Dense(1000,input_dim=X_train.shape[1],activation='relu',kernel_regularizer=l2(0.01)))\n",
        "model.add(Dropout(0.75))\n",
        "model.add(Dense(1,  activation='sigmoid',kernel_regularizer=l2(0.01)))\n",
        "model.compile(loss='binary_crossentropy', optimizer='adam', metrics=['accuracy'])\n",
        "history = model.fit(X_train, y_train, validation_data=(X_test, y_test), epochs=100, batch_size=1024, verbose=1)"
      ],
      "execution_count": 0,
      "outputs": [
        {
          "output_type": "stream",
          "text": [
            "Train on 112500 samples, validate on 37500 samples\n",
            "Epoch 1/100\n",
            "112500/112500 [==============================] - 1s 5us/step - loss: 0.3756 - accuracy: 0.9273 - val_loss: 0.2514 - val_accuracy: 0.9339\n",
            "Epoch 2/100\n",
            "112500/112500 [==============================] - 0s 4us/step - loss: 0.2424 - accuracy: 0.9329 - val_loss: 0.2322 - val_accuracy: 0.9340\n",
            "Epoch 3/100\n",
            "112500/112500 [==============================] - 0s 4us/step - loss: 0.2340 - accuracy: 0.9329 - val_loss: 0.2296 - val_accuracy: 0.9340\n",
            "Epoch 4/100\n",
            "112500/112500 [==============================] - 0s 4us/step - loss: 0.2323 - accuracy: 0.9329 - val_loss: 0.2284 - val_accuracy: 0.9340\n",
            "Epoch 5/100\n",
            "112500/112500 [==============================] - 0s 4us/step - loss: 0.2321 - accuracy: 0.9329 - val_loss: 0.2279 - val_accuracy: 0.9340\n",
            "Epoch 6/100\n",
            "112500/112500 [==============================] - 0s 4us/step - loss: 0.2315 - accuracy: 0.9329 - val_loss: 0.2284 - val_accuracy: 0.9340\n",
            "Epoch 7/100\n",
            "112500/112500 [==============================] - 0s 4us/step - loss: 0.2318 - accuracy: 0.9329 - val_loss: 0.2277 - val_accuracy: 0.9340\n",
            "Epoch 8/100\n",
            "112500/112500 [==============================] - 0s 4us/step - loss: 0.2315 - accuracy: 0.9329 - val_loss: 0.2277 - val_accuracy: 0.9340\n",
            "Epoch 9/100\n",
            "112500/112500 [==============================] - 0s 4us/step - loss: 0.2315 - accuracy: 0.9329 - val_loss: 0.2277 - val_accuracy: 0.9340\n",
            "Epoch 10/100\n",
            "112500/112500 [==============================] - 0s 4us/step - loss: 0.2314 - accuracy: 0.9329 - val_loss: 0.2281 - val_accuracy: 0.9340\n",
            "Epoch 11/100\n",
            "112500/112500 [==============================] - 0s 4us/step - loss: 0.2314 - accuracy: 0.9329 - val_loss: 0.2280 - val_accuracy: 0.9340\n",
            "Epoch 12/100\n",
            "112500/112500 [==============================] - 0s 4us/step - loss: 0.2315 - accuracy: 0.9329 - val_loss: 0.2277 - val_accuracy: 0.9340\n",
            "Epoch 13/100\n",
            "112500/112500 [==============================] - 0s 4us/step - loss: 0.2314 - accuracy: 0.9329 - val_loss: 0.2278 - val_accuracy: 0.9340\n",
            "Epoch 14/100\n",
            "112500/112500 [==============================] - 0s 4us/step - loss: 0.2315 - accuracy: 0.9329 - val_loss: 0.2279 - val_accuracy: 0.9340\n",
            "Epoch 15/100\n",
            "112500/112500 [==============================] - 0s 4us/step - loss: 0.2315 - accuracy: 0.9329 - val_loss: 0.2277 - val_accuracy: 0.9340\n",
            "Epoch 16/100\n",
            "112500/112500 [==============================] - 0s 4us/step - loss: 0.2314 - accuracy: 0.9329 - val_loss: 0.2278 - val_accuracy: 0.9340\n",
            "Epoch 17/100\n",
            "112500/112500 [==============================] - 0s 4us/step - loss: 0.2312 - accuracy: 0.9329 - val_loss: 0.2280 - val_accuracy: 0.9340\n",
            "Epoch 18/100\n",
            "112500/112500 [==============================] - 0s 4us/step - loss: 0.2315 - accuracy: 0.9329 - val_loss: 0.2278 - val_accuracy: 0.9340\n",
            "Epoch 19/100\n",
            "112500/112500 [==============================] - 0s 4us/step - loss: 0.2314 - accuracy: 0.9329 - val_loss: 0.2277 - val_accuracy: 0.9340\n",
            "Epoch 20/100\n",
            "112500/112500 [==============================] - 0s 4us/step - loss: 0.2312 - accuracy: 0.9329 - val_loss: 0.2277 - val_accuracy: 0.9340\n",
            "Epoch 21/100\n",
            "112500/112500 [==============================] - 0s 4us/step - loss: 0.2314 - accuracy: 0.9329 - val_loss: 0.2277 - val_accuracy: 0.9340\n",
            "Epoch 22/100\n",
            "112500/112500 [==============================] - 0s 4us/step - loss: 0.2314 - accuracy: 0.9329 - val_loss: 0.2278 - val_accuracy: 0.9340\n",
            "Epoch 23/100\n",
            "112500/112500 [==============================] - 0s 4us/step - loss: 0.2313 - accuracy: 0.9329 - val_loss: 0.2278 - val_accuracy: 0.9340\n",
            "Epoch 24/100\n",
            "112500/112500 [==============================] - 0s 4us/step - loss: 0.2314 - accuracy: 0.9329 - val_loss: 0.2278 - val_accuracy: 0.9340\n",
            "Epoch 25/100\n",
            "112500/112500 [==============================] - 0s 4us/step - loss: 0.2313 - accuracy: 0.9329 - val_loss: 0.2279 - val_accuracy: 0.9340\n",
            "Epoch 26/100\n",
            "112500/112500 [==============================] - 0s 4us/step - loss: 0.2311 - accuracy: 0.9329 - val_loss: 0.2283 - val_accuracy: 0.9340\n",
            "Epoch 27/100\n",
            "112500/112500 [==============================] - 0s 4us/step - loss: 0.2314 - accuracy: 0.9329 - val_loss: 0.2277 - val_accuracy: 0.9340\n",
            "Epoch 28/100\n",
            "112500/112500 [==============================] - 0s 4us/step - loss: 0.2313 - accuracy: 0.9329 - val_loss: 0.2278 - val_accuracy: 0.9340\n",
            "Epoch 29/100\n",
            "112500/112500 [==============================] - 0s 4us/step - loss: 0.2314 - accuracy: 0.9329 - val_loss: 0.2280 - val_accuracy: 0.9340\n",
            "Epoch 30/100\n",
            "112500/112500 [==============================] - 0s 4us/step - loss: 0.2315 - accuracy: 0.9329 - val_loss: 0.2283 - val_accuracy: 0.9340\n",
            "Epoch 31/100\n",
            "112500/112500 [==============================] - 0s 4us/step - loss: 0.2316 - accuracy: 0.9329 - val_loss: 0.2278 - val_accuracy: 0.9340\n",
            "Epoch 32/100\n",
            "112500/112500 [==============================] - 0s 4us/step - loss: 0.2314 - accuracy: 0.9329 - val_loss: 0.2279 - val_accuracy: 0.9340\n",
            "Epoch 33/100\n",
            "112500/112500 [==============================] - 0s 4us/step - loss: 0.2314 - accuracy: 0.9329 - val_loss: 0.2277 - val_accuracy: 0.9340\n",
            "Epoch 34/100\n",
            "112500/112500 [==============================] - 0s 4us/step - loss: 0.2312 - accuracy: 0.9329 - val_loss: 0.2278 - val_accuracy: 0.9340\n",
            "Epoch 35/100\n",
            "112500/112500 [==============================] - 0s 4us/step - loss: 0.2313 - accuracy: 0.9329 - val_loss: 0.2280 - val_accuracy: 0.9340\n",
            "Epoch 36/100\n",
            "112500/112500 [==============================] - 0s 4us/step - loss: 0.2313 - accuracy: 0.9329 - val_loss: 0.2278 - val_accuracy: 0.9340\n",
            "Epoch 37/100\n",
            "112500/112500 [==============================] - 0s 4us/step - loss: 0.2313 - accuracy: 0.9329 - val_loss: 0.2278 - val_accuracy: 0.9340\n",
            "Epoch 38/100\n",
            "112500/112500 [==============================] - 0s 4us/step - loss: 0.2313 - accuracy: 0.9329 - val_loss: 0.2278 - val_accuracy: 0.9340\n",
            "Epoch 39/100\n",
            "112500/112500 [==============================] - 0s 4us/step - loss: 0.2315 - accuracy: 0.9329 - val_loss: 0.2279 - val_accuracy: 0.9340\n",
            "Epoch 40/100\n",
            "112500/112500 [==============================] - 0s 4us/step - loss: 0.2313 - accuracy: 0.9329 - val_loss: 0.2278 - val_accuracy: 0.9340\n",
            "Epoch 41/100\n",
            "112500/112500 [==============================] - 0s 4us/step - loss: 0.2313 - accuracy: 0.9329 - val_loss: 0.2278 - val_accuracy: 0.9340\n",
            "Epoch 42/100\n",
            "112500/112500 [==============================] - 0s 4us/step - loss: 0.2312 - accuracy: 0.9329 - val_loss: 0.2279 - val_accuracy: 0.9340\n",
            "Epoch 43/100\n",
            "112500/112500 [==============================] - 0s 4us/step - loss: 0.2314 - accuracy: 0.9329 - val_loss: 0.2277 - val_accuracy: 0.9340\n",
            "Epoch 44/100\n",
            "112500/112500 [==============================] - 0s 4us/step - loss: 0.2314 - accuracy: 0.9329 - val_loss: 0.2278 - val_accuracy: 0.9340\n",
            "Epoch 45/100\n",
            "112500/112500 [==============================] - 0s 4us/step - loss: 0.2313 - accuracy: 0.9329 - val_loss: 0.2277 - val_accuracy: 0.9340\n",
            "Epoch 46/100\n",
            "112500/112500 [==============================] - 0s 4us/step - loss: 0.2317 - accuracy: 0.9329 - val_loss: 0.2278 - val_accuracy: 0.9340\n",
            "Epoch 47/100\n",
            "112500/112500 [==============================] - 0s 4us/step - loss: 0.2314 - accuracy: 0.9329 - val_loss: 0.2278 - val_accuracy: 0.9340\n",
            "Epoch 48/100\n",
            "112500/112500 [==============================] - 0s 4us/step - loss: 0.2314 - accuracy: 0.9329 - val_loss: 0.2280 - val_accuracy: 0.9340\n",
            "Epoch 49/100\n",
            "112500/112500 [==============================] - 0s 4us/step - loss: 0.2314 - accuracy: 0.9329 - val_loss: 0.2278 - val_accuracy: 0.9340\n",
            "Epoch 50/100\n",
            "112500/112500 [==============================] - 0s 4us/step - loss: 0.2311 - accuracy: 0.9329 - val_loss: 0.2284 - val_accuracy: 0.9340\n",
            "Epoch 51/100\n",
            "112500/112500 [==============================] - 0s 4us/step - loss: 0.2313 - accuracy: 0.9329 - val_loss: 0.2278 - val_accuracy: 0.9340\n",
            "Epoch 52/100\n",
            "112500/112500 [==============================] - 0s 4us/step - loss: 0.2312 - accuracy: 0.9329 - val_loss: 0.2278 - val_accuracy: 0.9340\n",
            "Epoch 53/100\n",
            "112500/112500 [==============================] - 0s 4us/step - loss: 0.2312 - accuracy: 0.9329 - val_loss: 0.2279 - val_accuracy: 0.9340\n",
            "Epoch 54/100\n",
            "112500/112500 [==============================] - 0s 4us/step - loss: 0.2313 - accuracy: 0.9329 - val_loss: 0.2278 - val_accuracy: 0.9340\n",
            "Epoch 55/100\n",
            "112500/112500 [==============================] - 0s 4us/step - loss: 0.2314 - accuracy: 0.9329 - val_loss: 0.2281 - val_accuracy: 0.9340\n",
            "Epoch 56/100\n",
            "112500/112500 [==============================] - 0s 4us/step - loss: 0.2312 - accuracy: 0.9329 - val_loss: 0.2278 - val_accuracy: 0.9340\n",
            "Epoch 57/100\n",
            "112500/112500 [==============================] - 0s 4us/step - loss: 0.2312 - accuracy: 0.9329 - val_loss: 0.2278 - val_accuracy: 0.9340\n",
            "Epoch 58/100\n",
            "112500/112500 [==============================] - 0s 4us/step - loss: 0.2312 - accuracy: 0.9329 - val_loss: 0.2278 - val_accuracy: 0.9340\n",
            "Epoch 59/100\n",
            "112500/112500 [==============================] - 0s 4us/step - loss: 0.2313 - accuracy: 0.9329 - val_loss: 0.2279 - val_accuracy: 0.9340\n",
            "Epoch 60/100\n",
            "112500/112500 [==============================] - 0s 4us/step - loss: 0.2313 - accuracy: 0.9329 - val_loss: 0.2278 - val_accuracy: 0.9340\n",
            "Epoch 61/100\n",
            "112500/112500 [==============================] - 0s 4us/step - loss: 0.2313 - accuracy: 0.9329 - val_loss: 0.2279 - val_accuracy: 0.9340\n",
            "Epoch 62/100\n",
            "112500/112500 [==============================] - 0s 4us/step - loss: 0.2314 - accuracy: 0.9329 - val_loss: 0.2278 - val_accuracy: 0.9340\n",
            "Epoch 63/100\n",
            "112500/112500 [==============================] - 0s 4us/step - loss: 0.2313 - accuracy: 0.9329 - val_loss: 0.2278 - val_accuracy: 0.9340\n",
            "Epoch 64/100\n",
            "112500/112500 [==============================] - 0s 4us/step - loss: 0.2312 - accuracy: 0.9329 - val_loss: 0.2277 - val_accuracy: 0.9340\n",
            "Epoch 65/100\n",
            "112500/112500 [==============================] - 0s 4us/step - loss: 0.2313 - accuracy: 0.9329 - val_loss: 0.2278 - val_accuracy: 0.9340\n",
            "Epoch 66/100\n",
            "112500/112500 [==============================] - 0s 4us/step - loss: 0.2312 - accuracy: 0.9329 - val_loss: 0.2279 - val_accuracy: 0.9340\n",
            "Epoch 67/100\n",
            "112500/112500 [==============================] - 0s 4us/step - loss: 0.2313 - accuracy: 0.9329 - val_loss: 0.2278 - val_accuracy: 0.9340\n",
            "Epoch 68/100\n",
            "112500/112500 [==============================] - 0s 4us/step - loss: 0.2311 - accuracy: 0.9329 - val_loss: 0.2278 - val_accuracy: 0.9340\n",
            "Epoch 69/100\n",
            "112500/112500 [==============================] - 0s 4us/step - loss: 0.2313 - accuracy: 0.9329 - val_loss: 0.2286 - val_accuracy: 0.9340\n",
            "Epoch 70/100\n",
            "112500/112500 [==============================] - 0s 4us/step - loss: 0.2315 - accuracy: 0.9329 - val_loss: 0.2278 - val_accuracy: 0.9340\n",
            "Epoch 71/100\n",
            "112500/112500 [==============================] - 0s 4us/step - loss: 0.2313 - accuracy: 0.9329 - val_loss: 0.2279 - val_accuracy: 0.9340\n",
            "Epoch 72/100\n",
            "112500/112500 [==============================] - 0s 4us/step - loss: 0.2314 - accuracy: 0.9329 - val_loss: 0.2280 - val_accuracy: 0.9340\n",
            "Epoch 73/100\n",
            "112500/112500 [==============================] - 0s 4us/step - loss: 0.2312 - accuracy: 0.9329 - val_loss: 0.2282 - val_accuracy: 0.9340\n",
            "Epoch 74/100\n",
            "112500/112500 [==============================] - 0s 4us/step - loss: 0.2314 - accuracy: 0.9329 - val_loss: 0.2280 - val_accuracy: 0.9340\n",
            "Epoch 75/100\n",
            "112500/112500 [==============================] - 0s 4us/step - loss: 0.2312 - accuracy: 0.9329 - val_loss: 0.2278 - val_accuracy: 0.9340\n",
            "Epoch 76/100\n",
            "112500/112500 [==============================] - 0s 4us/step - loss: 0.2313 - accuracy: 0.9329 - val_loss: 0.2278 - val_accuracy: 0.9340\n",
            "Epoch 77/100\n",
            "112500/112500 [==============================] - 0s 4us/step - loss: 0.2313 - accuracy: 0.9329 - val_loss: 0.2280 - val_accuracy: 0.9340\n",
            "Epoch 78/100\n",
            "112500/112500 [==============================] - 0s 4us/step - loss: 0.2312 - accuracy: 0.9329 - val_loss: 0.2278 - val_accuracy: 0.9340\n",
            "Epoch 79/100\n",
            "112500/112500 [==============================] - 0s 4us/step - loss: 0.2315 - accuracy: 0.9329 - val_loss: 0.2281 - val_accuracy: 0.9340\n",
            "Epoch 80/100\n",
            "112500/112500 [==============================] - 0s 4us/step - loss: 0.2313 - accuracy: 0.9329 - val_loss: 0.2278 - val_accuracy: 0.9340\n",
            "Epoch 81/100\n",
            "112500/112500 [==============================] - 0s 4us/step - loss: 0.2310 - accuracy: 0.9328 - val_loss: 0.2279 - val_accuracy: 0.9340\n",
            "Epoch 82/100\n",
            "112500/112500 [==============================] - 0s 4us/step - loss: 0.2312 - accuracy: 0.9329 - val_loss: 0.2278 - val_accuracy: 0.9340\n",
            "Epoch 83/100\n",
            "112500/112500 [==============================] - 0s 4us/step - loss: 0.2313 - accuracy: 0.9329 - val_loss: 0.2277 - val_accuracy: 0.9340\n",
            "Epoch 84/100\n",
            "112500/112500 [==============================] - 0s 4us/step - loss: 0.2312 - accuracy: 0.9329 - val_loss: 0.2278 - val_accuracy: 0.9340\n",
            "Epoch 85/100\n",
            "112500/112500 [==============================] - 0s 4us/step - loss: 0.2312 - accuracy: 0.9329 - val_loss: 0.2280 - val_accuracy: 0.9340\n",
            "Epoch 86/100\n",
            "112500/112500 [==============================] - 0s 4us/step - loss: 0.2311 - accuracy: 0.9329 - val_loss: 0.2278 - val_accuracy: 0.9340\n",
            "Epoch 87/100\n",
            "112500/112500 [==============================] - 0s 4us/step - loss: 0.2312 - accuracy: 0.9329 - val_loss: 0.2282 - val_accuracy: 0.9340\n",
            "Epoch 88/100\n",
            "112500/112500 [==============================] - 0s 4us/step - loss: 0.2312 - accuracy: 0.9329 - val_loss: 0.2278 - val_accuracy: 0.9340\n",
            "Epoch 89/100\n",
            "112500/112500 [==============================] - 0s 4us/step - loss: 0.2309 - accuracy: 0.9329 - val_loss: 0.2278 - val_accuracy: 0.9340\n",
            "Epoch 90/100\n",
            "112500/112500 [==============================] - 0s 4us/step - loss: 0.2312 - accuracy: 0.9329 - val_loss: 0.2278 - val_accuracy: 0.9340\n",
            "Epoch 91/100\n",
            "112500/112500 [==============================] - 0s 4us/step - loss: 0.2315 - accuracy: 0.9329 - val_loss: 0.2279 - val_accuracy: 0.9340\n",
            "Epoch 92/100\n",
            "112500/112500 [==============================] - 0s 4us/step - loss: 0.2312 - accuracy: 0.9329 - val_loss: 0.2280 - val_accuracy: 0.9340\n",
            "Epoch 93/100\n",
            "112500/112500 [==============================] - 0s 4us/step - loss: 0.2315 - accuracy: 0.9329 - val_loss: 0.2280 - val_accuracy: 0.9340\n",
            "Epoch 94/100\n",
            "112500/112500 [==============================] - 0s 4us/step - loss: 0.2314 - accuracy: 0.9329 - val_loss: 0.2279 - val_accuracy: 0.9340\n",
            "Epoch 95/100\n",
            "112500/112500 [==============================] - 0s 4us/step - loss: 0.2312 - accuracy: 0.9329 - val_loss: 0.2280 - val_accuracy: 0.9340\n",
            "Epoch 96/100\n",
            "112500/112500 [==============================] - 0s 4us/step - loss: 0.2314 - accuracy: 0.9329 - val_loss: 0.2278 - val_accuracy: 0.9340\n",
            "Epoch 97/100\n",
            "112500/112500 [==============================] - 0s 4us/step - loss: 0.2312 - accuracy: 0.9329 - val_loss: 0.2279 - val_accuracy: 0.9340\n",
            "Epoch 98/100\n",
            "112500/112500 [==============================] - 0s 4us/step - loss: 0.2310 - accuracy: 0.9329 - val_loss: 0.2279 - val_accuracy: 0.9340\n",
            "Epoch 99/100\n",
            "112500/112500 [==============================] - 0s 4us/step - loss: 0.2312 - accuracy: 0.9329 - val_loss: 0.2277 - val_accuracy: 0.9340\n",
            "Epoch 100/100\n",
            "112500/112500 [==============================] - 0s 4us/step - loss: 0.2311 - accuracy: 0.9329 - val_loss: 0.2278 - val_accuracy: 0.9340\n"
          ],
          "name": "stdout"
        }
      ]
    },
    {
      "cell_type": "code",
      "metadata": {
        "id": "gXrz6U7kWVQ4",
        "colab_type": "code",
        "outputId": "463e2b0a-b358-43ea-ceb0-3d06029461ab",
        "colab": {
          "base_uri": "https://localhost:8080/",
          "height": 177
        }
      },
      "source": [
        "plt.subplot(211)\n",
        "plt.plot(history.history['accuracy'])\n",
        "plt.plot(history.history['val_accuracy'])\n",
        "plt.title('model accuracy with dropout')\n",
        "plt.ylabel('accuracy')\n",
        "plt.xlabel('epoch')\n",
        "plt.legend(['train', 'test'], loc='lower right')\n",
        "plt.show()"
      ],
      "execution_count": 0,
      "outputs": [
        {
          "output_type": "display_data",
          "data": {
            "image/png": "[encoded data removed]",
            "text/plain": [
              "<Figure size 432x288 with 1 Axes>"
            ]
          },
          "metadata": {
            "tags": [],
            "needs_background": "light"
          }
        }
      ]
    },
    {
      "cell_type": "code",
      "metadata": {
        "id": "EHi4Ve1DWVQ8",
        "colab_type": "code",
        "outputId": "52e5ad8a-4862-4b4b-fa6b-c8f533423bc6",
        "colab": {
          "base_uri": "https://localhost:8080/",
          "height": 1000
        }
      },
      "source": [
        "#batch normalization\n",
        "model = Sequential()\n",
        "model.add(Dense(1000,input_dim=X_train.shape[1],activation='relu',kernel_regularizer=l2(0.01)))\n",
        "model.add(Dropout(0.75))\n",
        "model.add(BatchNormalization())\n",
        "model.add(Dense(1,  activation='sigmoid',kernel_regularizer=l2(0.01)))\n",
        "model.compile(loss='binary_crossentropy', optimizer='adam', metrics=['accuracy'])\n",
        "history = model.fit(X_train, y_train, validation_data=(X_test, y_test), epochs=100, batch_size=1024, verbose=1)"
      ],
      "execution_count": 0,
      "outputs": [
        {
          "output_type": "stream",
          "text": [
            "Train on 112500 samples, validate on 37500 samples\n",
            "Epoch 1/100\n",
            "112500/112500 [==============================] - 1s 7us/step - loss: 0.4473 - accuracy: 0.8805 - val_loss: 0.3019 - val_accuracy: 0.9340\n",
            "Epoch 2/100\n",
            "112500/112500 [==============================] - 1s 5us/step - loss: 0.2330 - accuracy: 0.9336 - val_loss: 0.2629 - val_accuracy: 0.9340\n",
            "Epoch 3/100\n",
            "112500/112500 [==============================] - 1s 5us/step - loss: 0.2095 - accuracy: 0.9342 - val_loss: 0.2483 - val_accuracy: 0.9340\n",
            "Epoch 4/100\n",
            "112500/112500 [==============================] - 1s 5us/step - loss: 0.2016 - accuracy: 0.9347 - val_loss: 0.2294 - val_accuracy: 0.9340\n",
            "Epoch 5/100\n",
            "112500/112500 [==============================] - 1s 5us/step - loss: 0.1979 - accuracy: 0.9340 - val_loss: 0.2087 - val_accuracy: 0.9340\n",
            "Epoch 6/100\n",
            "112500/112500 [==============================] - 1s 5us/step - loss: 0.1959 - accuracy: 0.9349 - val_loss: 0.1982 - val_accuracy: 0.9340\n",
            "Epoch 7/100\n",
            "112500/112500 [==============================] - 1s 5us/step - loss: 0.1952 - accuracy: 0.9343 - val_loss: 0.1902 - val_accuracy: 0.9362\n",
            "Epoch 8/100\n",
            "112500/112500 [==============================] - 1s 5us/step - loss: 0.1940 - accuracy: 0.9346 - val_loss: 0.1892 - val_accuracy: 0.9370\n",
            "Epoch 9/100\n",
            "112500/112500 [==============================] - 1s 4us/step - loss: 0.1937 - accuracy: 0.9346 - val_loss: 0.1892 - val_accuracy: 0.9366\n",
            "Epoch 10/100\n",
            "112500/112500 [==============================] - 1s 5us/step - loss: 0.1931 - accuracy: 0.9344 - val_loss: 0.1880 - val_accuracy: 0.9369\n",
            "Epoch 11/100\n",
            "112500/112500 [==============================] - 1s 4us/step - loss: 0.1930 - accuracy: 0.9345 - val_loss: 0.1882 - val_accuracy: 0.9368\n",
            "Epoch 12/100\n",
            "112500/112500 [==============================] - 1s 4us/step - loss: 0.1925 - accuracy: 0.9342 - val_loss: 0.1876 - val_accuracy: 0.9369\n",
            "Epoch 13/100\n",
            "112500/112500 [==============================] - 1s 5us/step - loss: 0.1924 - accuracy: 0.9343 - val_loss: 0.1880 - val_accuracy: 0.9367\n",
            "Epoch 14/100\n",
            "112500/112500 [==============================] - 1s 5us/step - loss: 0.1922 - accuracy: 0.9346 - val_loss: 0.1876 - val_accuracy: 0.9367\n",
            "Epoch 15/100\n",
            "112500/112500 [==============================] - 1s 4us/step - loss: 0.1923 - accuracy: 0.9343 - val_loss: 0.1881 - val_accuracy: 0.9366\n",
            "Epoch 16/100\n",
            "112500/112500 [==============================] - 1s 5us/step - loss: 0.1921 - accuracy: 0.9342 - val_loss: 0.1889 - val_accuracy: 0.9366\n",
            "Epoch 17/100\n",
            "112500/112500 [==============================] - 1s 5us/step - loss: 0.1916 - accuracy: 0.9345 - val_loss: 0.1871 - val_accuracy: 0.9364\n",
            "Epoch 18/100\n",
            "112500/112500 [==============================] - 1s 5us/step - loss: 0.1922 - accuracy: 0.9342 - val_loss: 0.1865 - val_accuracy: 0.9366\n",
            "Epoch 19/100\n",
            "112500/112500 [==============================] - 1s 5us/step - loss: 0.1922 - accuracy: 0.9340 - val_loss: 0.1866 - val_accuracy: 0.9369\n",
            "Epoch 20/100\n",
            "112500/112500 [==============================] - 1s 5us/step - loss: 0.1914 - accuracy: 0.9344 - val_loss: 0.1867 - val_accuracy: 0.9365\n",
            "Epoch 21/100\n",
            "112500/112500 [==============================] - 1s 5us/step - loss: 0.1921 - accuracy: 0.9341 - val_loss: 0.1872 - val_accuracy: 0.9360\n",
            "Epoch 22/100\n",
            "112500/112500 [==============================] - 1s 5us/step - loss: 0.1918 - accuracy: 0.9342 - val_loss: 0.1862 - val_accuracy: 0.9368\n",
            "Epoch 23/100\n",
            "112500/112500 [==============================] - 1s 5us/step - loss: 0.1915 - accuracy: 0.9335 - val_loss: 0.1883 - val_accuracy: 0.9359\n",
            "Epoch 24/100\n",
            "112500/112500 [==============================] - 1s 5us/step - loss: 0.1916 - accuracy: 0.9342 - val_loss: 0.1860 - val_accuracy: 0.9369\n",
            "Epoch 25/100\n",
            "112500/112500 [==============================] - 1s 5us/step - loss: 0.1912 - accuracy: 0.9344 - val_loss: 0.1858 - val_accuracy: 0.9367\n",
            "Epoch 26/100\n",
            "112500/112500 [==============================] - 1s 5us/step - loss: 0.1911 - accuracy: 0.9343 - val_loss: 0.1872 - val_accuracy: 0.9367\n",
            "Epoch 27/100\n",
            "112500/112500 [==============================] - 1s 5us/step - loss: 0.1910 - accuracy: 0.9344 - val_loss: 0.1855 - val_accuracy: 0.9367\n",
            "Epoch 28/100\n",
            "112500/112500 [==============================] - 1s 5us/step - loss: 0.1913 - accuracy: 0.9344 - val_loss: 0.1860 - val_accuracy: 0.9369\n",
            "Epoch 29/100\n",
            "112500/112500 [==============================] - 1s 5us/step - loss: 0.1913 - accuracy: 0.9343 - val_loss: 0.1863 - val_accuracy: 0.9364\n",
            "Epoch 30/100\n",
            "112500/112500 [==============================] - 1s 5us/step - loss: 0.1908 - accuracy: 0.9340 - val_loss: 0.1855 - val_accuracy: 0.9368\n",
            "Epoch 31/100\n",
            "112500/112500 [==============================] - 1s 5us/step - loss: 0.1909 - accuracy: 0.9340 - val_loss: 0.1864 - val_accuracy: 0.9364\n",
            "Epoch 32/100\n",
            "112500/112500 [==============================] - 1s 5us/step - loss: 0.1907 - accuracy: 0.9340 - val_loss: 0.1856 - val_accuracy: 0.9362\n",
            "Epoch 33/100\n",
            "112500/112500 [==============================] - 1s 5us/step - loss: 0.1909 - accuracy: 0.9345 - val_loss: 0.1856 - val_accuracy: 0.9368\n",
            "Epoch 34/100\n",
            "112500/112500 [==============================] - 1s 5us/step - loss: 0.1912 - accuracy: 0.9342 - val_loss: 0.1855 - val_accuracy: 0.9366\n",
            "Epoch 35/100\n",
            "112500/112500 [==============================] - 1s 5us/step - loss: 0.1912 - accuracy: 0.9342 - val_loss: 0.1856 - val_accuracy: 0.9365\n",
            "Epoch 36/100\n",
            "112500/112500 [==============================] - 1s 5us/step - loss: 0.1909 - accuracy: 0.9343 - val_loss: 0.1851 - val_accuracy: 0.9369\n",
            "Epoch 37/100\n",
            "112500/112500 [==============================] - 1s 5us/step - loss: 0.1909 - accuracy: 0.9341 - val_loss: 0.1853 - val_accuracy: 0.9365\n",
            "Epoch 38/100\n",
            "112500/112500 [==============================] - 1s 5us/step - loss: 0.1909 - accuracy: 0.9342 - val_loss: 0.1857 - val_accuracy: 0.9367\n",
            "Epoch 39/100\n",
            "112500/112500 [==============================] - 1s 5us/step - loss: 0.1909 - accuracy: 0.9340 - val_loss: 0.1875 - val_accuracy: 0.9347\n",
            "Epoch 40/100\n",
            "112500/112500 [==============================] - 1s 5us/step - loss: 0.1907 - accuracy: 0.9341 - val_loss: 0.1857 - val_accuracy: 0.9365\n",
            "Epoch 41/100\n",
            "112500/112500 [==============================] - 1s 5us/step - loss: 0.1910 - accuracy: 0.9340 - val_loss: 0.1850 - val_accuracy: 0.9366\n",
            "Epoch 42/100\n",
            "112500/112500 [==============================] - 1s 5us/step - loss: 0.1903 - accuracy: 0.9341 - val_loss: 0.1851 - val_accuracy: 0.9366\n",
            "Epoch 43/100\n",
            "112500/112500 [==============================] - 1s 5us/step - loss: 0.1908 - accuracy: 0.9341 - val_loss: 0.1859 - val_accuracy: 0.9368\n",
            "Epoch 44/100\n",
            "112500/112500 [==============================] - 1s 5us/step - loss: 0.1909 - accuracy: 0.9335 - val_loss: 0.1851 - val_accuracy: 0.9362\n",
            "Epoch 45/100\n",
            "112500/112500 [==============================] - 1s 4us/step - loss: 0.1904 - accuracy: 0.9341 - val_loss: 0.1850 - val_accuracy: 0.9367\n",
            "Epoch 46/100\n",
            "112500/112500 [==============================] - 1s 5us/step - loss: 0.1905 - accuracy: 0.9339 - val_loss: 0.1861 - val_accuracy: 0.9363\n",
            "Epoch 47/100\n",
            "112500/112500 [==============================] - 1s 5us/step - loss: 0.1903 - accuracy: 0.9344 - val_loss: 0.1849 - val_accuracy: 0.9366\n",
            "Epoch 48/100\n",
            "112500/112500 [==============================] - 1s 5us/step - loss: 0.1903 - accuracy: 0.9341 - val_loss: 0.1849 - val_accuracy: 0.9367\n",
            "Epoch 49/100\n",
            "112500/112500 [==============================] - 1s 4us/step - loss: 0.1902 - accuracy: 0.9340 - val_loss: 0.1848 - val_accuracy: 0.9367\n",
            "Epoch 50/100\n",
            "112500/112500 [==============================] - 1s 5us/step - loss: 0.1909 - accuracy: 0.9340 - val_loss: 0.1847 - val_accuracy: 0.9363\n",
            "Epoch 51/100\n",
            "112500/112500 [==============================] - 1s 5us/step - loss: 0.1905 - accuracy: 0.9337 - val_loss: 0.1852 - val_accuracy: 0.9353\n",
            "Epoch 52/100\n",
            "112500/112500 [==============================] - 1s 5us/step - loss: 0.1899 - accuracy: 0.9345 - val_loss: 0.1850 - val_accuracy: 0.9364\n",
            "Epoch 53/100\n",
            "112500/112500 [==============================] - 1s 5us/step - loss: 0.1907 - accuracy: 0.9337 - val_loss: 0.1859 - val_accuracy: 0.9346\n",
            "Epoch 54/100\n",
            "112500/112500 [==============================] - 1s 5us/step - loss: 0.1906 - accuracy: 0.9337 - val_loss: 0.1854 - val_accuracy: 0.9340\n",
            "Epoch 55/100\n",
            "112500/112500 [==============================] - 1s 5us/step - loss: 0.1906 - accuracy: 0.9346 - val_loss: 0.1845 - val_accuracy: 0.9369\n",
            "Epoch 56/100\n",
            "112500/112500 [==============================] - 1s 5us/step - loss: 0.1908 - accuracy: 0.9337 - val_loss: 0.1847 - val_accuracy: 0.9365\n",
            "Epoch 57/100\n",
            "112500/112500 [==============================] - 1s 5us/step - loss: 0.1907 - accuracy: 0.9334 - val_loss: 0.1855 - val_accuracy: 0.9359\n",
            "Epoch 58/100\n",
            "112500/112500 [==============================] - 1s 5us/step - loss: 0.1905 - accuracy: 0.9344 - val_loss: 0.1845 - val_accuracy: 0.9369\n",
            "Epoch 59/100\n",
            "112500/112500 [==============================] - 1s 4us/step - loss: 0.1901 - accuracy: 0.9338 - val_loss: 0.1852 - val_accuracy: 0.9360\n",
            "Epoch 60/100\n",
            "112500/112500 [==============================] - 1s 5us/step - loss: 0.1901 - accuracy: 0.9341 - val_loss: 0.1845 - val_accuracy: 0.9362\n",
            "Epoch 61/100\n",
            "112500/112500 [==============================] - 1s 5us/step - loss: 0.1901 - accuracy: 0.9338 - val_loss: 0.1849 - val_accuracy: 0.9354\n",
            "Epoch 62/100\n",
            "112500/112500 [==============================] - 1s 5us/step - loss: 0.1909 - accuracy: 0.9340 - val_loss: 0.1851 - val_accuracy: 0.9345\n",
            "Epoch 63/100\n",
            "112500/112500 [==============================] - 1s 5us/step - loss: 0.1905 - accuracy: 0.9343 - val_loss: 0.1846 - val_accuracy: 0.9366\n",
            "Epoch 64/100\n",
            "112500/112500 [==============================] - 1s 5us/step - loss: 0.1909 - accuracy: 0.9340 - val_loss: 0.1844 - val_accuracy: 0.9364\n",
            "Epoch 65/100\n",
            "112500/112500 [==============================] - 1s 5us/step - loss: 0.1902 - accuracy: 0.9342 - val_loss: 0.1841 - val_accuracy: 0.9365\n",
            "Epoch 66/100\n",
            "112500/112500 [==============================] - 1s 5us/step - loss: 0.1900 - accuracy: 0.9344 - val_loss: 0.1852 - val_accuracy: 0.9356\n",
            "Epoch 67/100\n",
            "112500/112500 [==============================] - 1s 5us/step - loss: 0.1904 - accuracy: 0.9342 - val_loss: 0.1844 - val_accuracy: 0.9364\n",
            "Epoch 68/100\n",
            "112500/112500 [==============================] - 1s 5us/step - loss: 0.1902 - accuracy: 0.9343 - val_loss: 0.1853 - val_accuracy: 0.9350\n",
            "Epoch 69/100\n",
            "112500/112500 [==============================] - 1s 5us/step - loss: 0.1905 - accuracy: 0.9340 - val_loss: 0.1848 - val_accuracy: 0.9361\n",
            "Epoch 70/100\n",
            "112500/112500 [==============================] - 1s 5us/step - loss: 0.1903 - accuracy: 0.9341 - val_loss: 0.1852 - val_accuracy: 0.9359\n",
            "Epoch 71/100\n",
            "112500/112500 [==============================] - 1s 5us/step - loss: 0.1900 - accuracy: 0.9345 - val_loss: 0.1844 - val_accuracy: 0.9370\n",
            "Epoch 72/100\n",
            "112500/112500 [==============================] - 1s 5us/step - loss: 0.1903 - accuracy: 0.9341 - val_loss: 0.1847 - val_accuracy: 0.9367\n",
            "Epoch 73/100\n",
            "112500/112500 [==============================] - 1s 5us/step - loss: 0.1904 - accuracy: 0.9337 - val_loss: 0.1844 - val_accuracy: 0.9362\n",
            "Epoch 74/100\n",
            "112500/112500 [==============================] - 1s 5us/step - loss: 0.1902 - accuracy: 0.9336 - val_loss: 0.1844 - val_accuracy: 0.9365\n",
            "Epoch 75/100\n",
            "112500/112500 [==============================] - 1s 5us/step - loss: 0.1902 - accuracy: 0.9337 - val_loss: 0.1845 - val_accuracy: 0.9362\n",
            "Epoch 76/100\n",
            "112500/112500 [==============================] - 1s 5us/step - loss: 0.1897 - accuracy: 0.9343 - val_loss: 0.1842 - val_accuracy: 0.9367\n",
            "Epoch 77/100\n",
            "112500/112500 [==============================] - 1s 5us/step - loss: 0.1902 - accuracy: 0.9341 - val_loss: 0.1843 - val_accuracy: 0.9367\n",
            "Epoch 78/100\n",
            "112500/112500 [==============================] - 1s 4us/step - loss: 0.1900 - accuracy: 0.9338 - val_loss: 0.1841 - val_accuracy: 0.9363\n",
            "Epoch 79/100\n",
            "112500/112500 [==============================] - 1s 5us/step - loss: 0.1896 - accuracy: 0.9341 - val_loss: 0.1841 - val_accuracy: 0.9363\n",
            "Epoch 80/100\n",
            "112500/112500 [==============================] - 0s 4us/step - loss: 0.1901 - accuracy: 0.9340 - val_loss: 0.1857 - val_accuracy: 0.9361\n",
            "Epoch 81/100\n",
            "112500/112500 [==============================] - 1s 5us/step - loss: 0.1900 - accuracy: 0.9339 - val_loss: 0.1845 - val_accuracy: 0.9361\n",
            "Epoch 82/100\n",
            "112500/112500 [==============================] - 1s 5us/step - loss: 0.1896 - accuracy: 0.9341 - val_loss: 0.1846 - val_accuracy: 0.9361\n",
            "Epoch 83/100\n",
            "112500/112500 [==============================] - 1s 5us/step - loss: 0.1900 - accuracy: 0.9340 - val_loss: 0.1858 - val_accuracy: 0.9342\n",
            "Epoch 84/100\n",
            "112500/112500 [==============================] - 1s 5us/step - loss: 0.1896 - accuracy: 0.9341 - val_loss: 0.1843 - val_accuracy: 0.9363\n",
            "Epoch 85/100\n",
            "112500/112500 [==============================] - 1s 5us/step - loss: 0.1896 - accuracy: 0.9344 - val_loss: 0.1840 - val_accuracy: 0.9365\n",
            "Epoch 86/100\n",
            "112500/112500 [==============================] - 1s 5us/step - loss: 0.1896 - accuracy: 0.9340 - val_loss: 0.1847 - val_accuracy: 0.9365\n",
            "Epoch 87/100\n",
            "112500/112500 [==============================] - 1s 5us/step - loss: 0.1898 - accuracy: 0.9339 - val_loss: 0.1843 - val_accuracy: 0.9369\n",
            "Epoch 88/100\n",
            "112500/112500 [==============================] - 1s 5us/step - loss: 0.1897 - accuracy: 0.9340 - val_loss: 0.1847 - val_accuracy: 0.9357\n",
            "Epoch 89/100\n",
            "112500/112500 [==============================] - 1s 5us/step - loss: 0.1899 - accuracy: 0.9340 - val_loss: 0.1843 - val_accuracy: 0.9369\n",
            "Epoch 90/100\n",
            "112500/112500 [==============================] - 1s 5us/step - loss: 0.1896 - accuracy: 0.9339 - val_loss: 0.1850 - val_accuracy: 0.9369\n",
            "Epoch 91/100\n",
            "112500/112500 [==============================] - 1s 5us/step - loss: 0.1902 - accuracy: 0.9337 - val_loss: 0.1840 - val_accuracy: 0.9366\n",
            "Epoch 92/100\n",
            "112500/112500 [==============================] - 1s 5us/step - loss: 0.1899 - accuracy: 0.9339 - val_loss: 0.1840 - val_accuracy: 0.9369\n",
            "Epoch 93/100\n",
            "112500/112500 [==============================] - 1s 5us/step - loss: 0.1898 - accuracy: 0.9340 - val_loss: 0.1848 - val_accuracy: 0.9367\n",
            "Epoch 94/100\n",
            "112500/112500 [==============================] - 1s 5us/step - loss: 0.1900 - accuracy: 0.9341 - val_loss: 0.1855 - val_accuracy: 0.9353\n",
            "Epoch 95/100\n",
            "112500/112500 [==============================] - 1s 5us/step - loss: 0.1892 - accuracy: 0.9339 - val_loss: 0.1843 - val_accuracy: 0.9365\n",
            "Epoch 96/100\n",
            "112500/112500 [==============================] - 1s 5us/step - loss: 0.1898 - accuracy: 0.9343 - val_loss: 0.1840 - val_accuracy: 0.9363\n",
            "Epoch 97/100\n",
            "112500/112500 [==============================] - 1s 5us/step - loss: 0.1900 - accuracy: 0.9338 - val_loss: 0.1844 - val_accuracy: 0.9363\n",
            "Epoch 98/100\n",
            "112500/112500 [==============================] - 1s 5us/step - loss: 0.1893 - accuracy: 0.9337 - val_loss: 0.1841 - val_accuracy: 0.9365\n",
            "Epoch 99/100\n",
            "112500/112500 [==============================] - 1s 5us/step - loss: 0.1893 - accuracy: 0.9342 - val_loss: 0.1840 - val_accuracy: 0.9369\n",
            "Epoch 100/100\n",
            "112500/112500 [==============================] - 1s 5us/step - loss: 0.1898 - accuracy: 0.9337 - val_loss: 0.1838 - val_accuracy: 0.9369\n"
          ],
          "name": "stdout"
        }
      ]
    },
    {
      "cell_type": "code",
      "metadata": {
        "id": "QjqHvKEpWVRF",
        "colab_type": "code",
        "outputId": "0ed657f7-638a-4c4e-cc12-de74c8de5612",
        "colab": {
          "base_uri": "https://localhost:8080/",
          "height": 177
        }
      },
      "source": [
        "plt.subplot(211)\n",
        "plt.plot(history.history['accuracy'])\n",
        "plt.plot(history.history['val_accuracy'])\n",
        "plt.title('model accuracy with batch normalization')\n",
        "plt.ylabel('accuracy')\n",
        "plt.xlabel('epoch')\n",
        "plt.legend(['train', 'test'], loc='lower right')\n",
        "plt.show()"
      ],
      "execution_count": 0,
      "outputs": [
        {
          "output_type": "display_data",
          "data": {
            "image/png": "[encoded data removed]",
            "text/plain": [
              "<Figure size 432x288 with 1 Axes>"
            ]
          },
          "metadata": {
            "tags": [],
            "needs_background": "light"
          }
        }
      ]
    },
    {
      "cell_type": "markdown",
      "metadata": {
        "id": "F09atwQWWVRK",
        "colab_type": "text"
      },
      "source": [
        "### 4. Add more number of layers and repeat step 3."
      ]
    },
    {
      "cell_type": "code",
      "metadata": {
        "id": "T1IFTeX3WVRK",
        "colab_type": "code",
        "outputId": "de7975ed-66d5-4328-a164-9923444a8344",
        "colab": {
          "base_uri": "https://localhost:8080/",
          "height": 1000
        }
      },
      "source": [
        "model = Sequential()\n",
        "model.add(Dense(1000,input_dim=X_train.shape[1],activation='relu',kernel_regularizer=l2(0.01)))\n",
        "model.add(Dropout(0.5))\n",
        "model.add(BatchNormalization())\n",
        "model.add(Dense(500,activation='relu',kernel_regularizer=l2(0.01)))\n",
        "model.add(Dropout(0.5))\n",
        "model.add(BatchNormalization())\n",
        "model.add(Dense(300,activation='relu',kernel_regularizer=l2(0.01)))\n",
        "model.add(Dropout(0.5))\n",
        "model.add(BatchNormalization())\n",
        "model.add(Dense(1,  activation='sigmoid',kernel_regularizer=l2(0.01)))\n",
        "model.compile(loss='binary_crossentropy', optimizer='adam', metrics=['accuracy'])\n",
        "history = model.fit(X_train, y_train, validation_data=(X_test, y_test), epochs=100, batch_size=1024, verbose=1)"
      ],
      "execution_count": 0,
      "outputs": [
        {
          "output_type": "stream",
          "text": [
            "Train on 112500 samples, validate on 37500 samples\n",
            "Epoch 1/100\n",
            "112500/112500 [==============================] - 1s 13us/step - loss: 3.4029 - accuracy: 0.8364 - val_loss: 0.6661 - val_accuracy: 0.9340\n",
            "Epoch 2/100\n",
            "112500/112500 [==============================] - 1s 8us/step - loss: 0.4815 - accuracy: 0.9290 - val_loss: 0.3849 - val_accuracy: 0.9340\n",
            "Epoch 3/100\n",
            "112500/112500 [==============================] - 1s 7us/step - loss: 0.3651 - accuracy: 0.9323 - val_loss: 0.3462 - val_accuracy: 0.9340\n",
            "Epoch 4/100\n",
            "112500/112500 [==============================] - 1s 8us/step - loss: 0.3173 - accuracy: 0.9329 - val_loss: 0.2950 - val_accuracy: 0.9340\n",
            "Epoch 5/100\n",
            "112500/112500 [==============================] - 1s 8us/step - loss: 0.2848 - accuracy: 0.9330 - val_loss: 0.2610 - val_accuracy: 0.9340\n",
            "Epoch 6/100\n",
            "112500/112500 [==============================] - 1s 8us/step - loss: 0.2668 - accuracy: 0.9331 - val_loss: 0.2530 - val_accuracy: 0.9361\n",
            "Epoch 7/100\n",
            "112500/112500 [==============================] - 1s 8us/step - loss: 0.2553 - accuracy: 0.9333 - val_loss: 0.2331 - val_accuracy: 0.9361\n",
            "Epoch 8/100\n",
            "112500/112500 [==============================] - 1s 7us/step - loss: 0.2451 - accuracy: 0.9331 - val_loss: 0.2225 - val_accuracy: 0.9366\n",
            "Epoch 9/100\n",
            "112500/112500 [==============================] - 1s 8us/step - loss: 0.2353 - accuracy: 0.9327 - val_loss: 0.2174 - val_accuracy: 0.9340\n",
            "Epoch 10/100\n",
            "112500/112500 [==============================] - 1s 8us/step - loss: 0.2268 - accuracy: 0.9336 - val_loss: 0.2107 - val_accuracy: 0.9363\n",
            "Epoch 11/100\n",
            "112500/112500 [==============================] - 1s 7us/step - loss: 0.2213 - accuracy: 0.9324 - val_loss: 0.2092 - val_accuracy: 0.9358\n",
            "Epoch 12/100\n",
            "112500/112500 [==============================] - 1s 8us/step - loss: 0.2139 - accuracy: 0.9328 - val_loss: 0.2015 - val_accuracy: 0.9359\n",
            "Epoch 13/100\n",
            "112500/112500 [==============================] - 1s 8us/step - loss: 0.2099 - accuracy: 0.9328 - val_loss: 0.1994 - val_accuracy: 0.9365\n",
            "Epoch 14/100\n",
            "112500/112500 [==============================] - 1s 8us/step - loss: 0.2055 - accuracy: 0.9335 - val_loss: 0.2003 - val_accuracy: 0.9366\n",
            "Epoch 15/100\n",
            "112500/112500 [==============================] - 1s 7us/step - loss: 0.2022 - accuracy: 0.9339 - val_loss: 0.1952 - val_accuracy: 0.9341\n",
            "Epoch 16/100\n",
            "112500/112500 [==============================] - 1s 8us/step - loss: 0.1997 - accuracy: 0.9338 - val_loss: 0.1923 - val_accuracy: 0.9368\n",
            "Epoch 17/100\n",
            "112500/112500 [==============================] - 1s 8us/step - loss: 0.1992 - accuracy: 0.9337 - val_loss: 0.1923 - val_accuracy: 0.9367\n",
            "Epoch 18/100\n",
            "112500/112500 [==============================] - 1s 7us/step - loss: 0.1981 - accuracy: 0.9340 - val_loss: 0.1946 - val_accuracy: 0.9366\n",
            "Epoch 19/100\n",
            "112500/112500 [==============================] - 1s 8us/step - loss: 0.1974 - accuracy: 0.9337 - val_loss: 0.1920 - val_accuracy: 0.9354\n",
            "Epoch 20/100\n",
            "112500/112500 [==============================] - 1s 8us/step - loss: 0.1973 - accuracy: 0.9338 - val_loss: 0.1913 - val_accuracy: 0.9363\n",
            "Epoch 21/100\n",
            "112500/112500 [==============================] - 1s 8us/step - loss: 0.1976 - accuracy: 0.9334 - val_loss: 0.1906 - val_accuracy: 0.9368\n",
            "Epoch 22/100\n",
            "112500/112500 [==============================] - 1s 8us/step - loss: 0.1966 - accuracy: 0.9344 - val_loss: 0.1904 - val_accuracy: 0.9364\n",
            "Epoch 23/100\n",
            "112500/112500 [==============================] - 1s 8us/step - loss: 0.1975 - accuracy: 0.9338 - val_loss: 0.1908 - val_accuracy: 0.9366\n",
            "Epoch 24/100\n",
            "112500/112500 [==============================] - 1s 8us/step - loss: 0.1968 - accuracy: 0.9338 - val_loss: 0.1903 - val_accuracy: 0.9368\n",
            "Epoch 25/100\n",
            "112500/112500 [==============================] - 1s 8us/step - loss: 0.1973 - accuracy: 0.9338 - val_loss: 0.1907 - val_accuracy: 0.9366\n",
            "Epoch 26/100\n",
            "112500/112500 [==============================] - 1s 8us/step - loss: 0.1971 - accuracy: 0.9333 - val_loss: 0.1908 - val_accuracy: 0.9367\n",
            "Epoch 27/100\n",
            "112500/112500 [==============================] - 1s 8us/step - loss: 0.1960 - accuracy: 0.9343 - val_loss: 0.1894 - val_accuracy: 0.9368\n",
            "Epoch 28/100\n",
            "112500/112500 [==============================] - 1s 8us/step - loss: 0.1961 - accuracy: 0.9339 - val_loss: 0.1907 - val_accuracy: 0.9367\n",
            "Epoch 29/100\n",
            "112500/112500 [==============================] - 1s 8us/step - loss: 0.1966 - accuracy: 0.9337 - val_loss: 0.1895 - val_accuracy: 0.9366\n",
            "Epoch 30/100\n",
            "112500/112500 [==============================] - 1s 8us/step - loss: 0.1960 - accuracy: 0.9343 - val_loss: 0.1900 - val_accuracy: 0.9366\n",
            "Epoch 31/100\n",
            "112500/112500 [==============================] - 1s 8us/step - loss: 0.1962 - accuracy: 0.9337 - val_loss: 0.1920 - val_accuracy: 0.9366\n",
            "Epoch 32/100\n",
            "112500/112500 [==============================] - 1s 8us/step - loss: 0.1964 - accuracy: 0.9339 - val_loss: 0.1903 - val_accuracy: 0.9348\n",
            "Epoch 33/100\n",
            "112500/112500 [==============================] - 1s 8us/step - loss: 0.1963 - accuracy: 0.9338 - val_loss: 0.1896 - val_accuracy: 0.9367\n",
            "Epoch 34/100\n",
            "112500/112500 [==============================] - 1s 8us/step - loss: 0.1961 - accuracy: 0.9338 - val_loss: 0.1893 - val_accuracy: 0.9367\n",
            "Epoch 35/100\n",
            "112500/112500 [==============================] - 1s 8us/step - loss: 0.1961 - accuracy: 0.9342 - val_loss: 0.1894 - val_accuracy: 0.9364\n",
            "Epoch 36/100\n",
            "112500/112500 [==============================] - 1s 8us/step - loss: 0.1959 - accuracy: 0.9338 - val_loss: 0.1891 - val_accuracy: 0.9366\n",
            "Epoch 37/100\n",
            "112500/112500 [==============================] - 1s 8us/step - loss: 0.1959 - accuracy: 0.9339 - val_loss: 0.1906 - val_accuracy: 0.9363\n",
            "Epoch 38/100\n",
            "112500/112500 [==============================] - 1s 8us/step - loss: 0.1959 - accuracy: 0.9341 - val_loss: 0.1892 - val_accuracy: 0.9362\n",
            "Epoch 39/100\n",
            "112500/112500 [==============================] - 1s 8us/step - loss: 0.1953 - accuracy: 0.9341 - val_loss: 0.1896 - val_accuracy: 0.9366\n",
            "Epoch 40/100\n",
            "112500/112500 [==============================] - 1s 8us/step - loss: 0.1949 - accuracy: 0.9339 - val_loss: 0.1889 - val_accuracy: 0.9364\n",
            "Epoch 41/100\n",
            "112500/112500 [==============================] - 1s 8us/step - loss: 0.1948 - accuracy: 0.9343 - val_loss: 0.1895 - val_accuracy: 0.9363\n",
            "Epoch 42/100\n",
            "112500/112500 [==============================] - 1s 8us/step - loss: 0.1950 - accuracy: 0.9340 - val_loss: 0.1911 - val_accuracy: 0.9356\n",
            "Epoch 43/100\n",
            "112500/112500 [==============================] - 1s 8us/step - loss: 0.1947 - accuracy: 0.9338 - val_loss: 0.1901 - val_accuracy: 0.9366\n",
            "Epoch 44/100\n",
            "112500/112500 [==============================] - 1s 8us/step - loss: 0.1952 - accuracy: 0.9337 - val_loss: 0.1889 - val_accuracy: 0.9365\n",
            "Epoch 45/100\n",
            "112500/112500 [==============================] - 1s 8us/step - loss: 0.1947 - accuracy: 0.9338 - val_loss: 0.1885 - val_accuracy: 0.9357\n",
            "Epoch 46/100\n",
            "112500/112500 [==============================] - 1s 8us/step - loss: 0.1943 - accuracy: 0.9342 - val_loss: 0.1922 - val_accuracy: 0.9366\n",
            "Epoch 47/100\n",
            "112500/112500 [==============================] - 1s 8us/step - loss: 0.1946 - accuracy: 0.9342 - val_loss: 0.1883 - val_accuracy: 0.9363\n",
            "Epoch 48/100\n",
            "112500/112500 [==============================] - 1s 8us/step - loss: 0.1945 - accuracy: 0.9344 - val_loss: 0.1885 - val_accuracy: 0.9365\n",
            "Epoch 49/100\n",
            "112500/112500 [==============================] - 1s 8us/step - loss: 0.1939 - accuracy: 0.9336 - val_loss: 0.1888 - val_accuracy: 0.9340\n",
            "Epoch 50/100\n",
            "112500/112500 [==============================] - 1s 8us/step - loss: 0.1939 - accuracy: 0.9338 - val_loss: 0.1880 - val_accuracy: 0.9369\n",
            "Epoch 51/100\n",
            "112500/112500 [==============================] - 1s 8us/step - loss: 0.1941 - accuracy: 0.9337 - val_loss: 0.1896 - val_accuracy: 0.9366\n",
            "Epoch 52/100\n",
            "112500/112500 [==============================] - 1s 8us/step - loss: 0.1939 - accuracy: 0.9344 - val_loss: 0.1891 - val_accuracy: 0.9344\n",
            "Epoch 53/100\n",
            "112500/112500 [==============================] - 1s 8us/step - loss: 0.1943 - accuracy: 0.9337 - val_loss: 0.1895 - val_accuracy: 0.9365\n",
            "Epoch 54/100\n",
            "112500/112500 [==============================] - 1s 8us/step - loss: 0.1938 - accuracy: 0.9345 - val_loss: 0.1882 - val_accuracy: 0.9365\n",
            "Epoch 55/100\n",
            "112500/112500 [==============================] - 1s 8us/step - loss: 0.1943 - accuracy: 0.9341 - val_loss: 0.1875 - val_accuracy: 0.9365\n",
            "Epoch 56/100\n",
            "112500/112500 [==============================] - 1s 8us/step - loss: 0.1940 - accuracy: 0.9334 - val_loss: 0.1877 - val_accuracy: 0.9366\n",
            "Epoch 57/100\n",
            "112500/112500 [==============================] - 1s 8us/step - loss: 0.1934 - accuracy: 0.9340 - val_loss: 0.1880 - val_accuracy: 0.9366\n",
            "Epoch 58/100\n",
            "112500/112500 [==============================] - 1s 8us/step - loss: 0.1932 - accuracy: 0.9339 - val_loss: 0.1882 - val_accuracy: 0.9365\n",
            "Epoch 59/100\n",
            "112500/112500 [==============================] - 1s 7us/step - loss: 0.1927 - accuracy: 0.9341 - val_loss: 0.1941 - val_accuracy: 0.9356\n",
            "Epoch 60/100\n",
            "112500/112500 [==============================] - 1s 7us/step - loss: 0.1936 - accuracy: 0.9337 - val_loss: 0.1880 - val_accuracy: 0.9344\n",
            "Epoch 61/100\n",
            "112500/112500 [==============================] - 1s 8us/step - loss: 0.1927 - accuracy: 0.9336 - val_loss: 0.1870 - val_accuracy: 0.9364\n",
            "Epoch 62/100\n",
            "112500/112500 [==============================] - 1s 7us/step - loss: 0.1935 - accuracy: 0.9334 - val_loss: 0.1874 - val_accuracy: 0.9365\n",
            "Epoch 63/100\n",
            "112500/112500 [==============================] - 1s 8us/step - loss: 0.1933 - accuracy: 0.9340 - val_loss: 0.1869 - val_accuracy: 0.9363\n",
            "Epoch 64/100\n",
            "112500/112500 [==============================] - 1s 8us/step - loss: 0.1927 - accuracy: 0.9343 - val_loss: 0.1890 - val_accuracy: 0.9364\n",
            "Epoch 65/100\n",
            "112500/112500 [==============================] - 1s 8us/step - loss: 0.1931 - accuracy: 0.9340 - val_loss: 0.1874 - val_accuracy: 0.9364\n",
            "Epoch 66/100\n",
            "112500/112500 [==============================] - 1s 8us/step - loss: 0.1931 - accuracy: 0.9336 - val_loss: 0.1875 - val_accuracy: 0.9363\n",
            "Epoch 67/100\n",
            "112500/112500 [==============================] - 1s 8us/step - loss: 0.1931 - accuracy: 0.9336 - val_loss: 0.1878 - val_accuracy: 0.9366\n",
            "Epoch 68/100\n",
            "112500/112500 [==============================] - 1s 8us/step - loss: 0.1932 - accuracy: 0.9340 - val_loss: 0.1904 - val_accuracy: 0.9368\n",
            "Epoch 69/100\n",
            "112500/112500 [==============================] - 1s 7us/step - loss: 0.1923 - accuracy: 0.9338 - val_loss: 0.1866 - val_accuracy: 0.9365\n",
            "Epoch 70/100\n",
            "112500/112500 [==============================] - 1s 8us/step - loss: 0.1927 - accuracy: 0.9339 - val_loss: 0.1883 - val_accuracy: 0.9354\n",
            "Epoch 71/100\n",
            "112500/112500 [==============================] - 1s 8us/step - loss: 0.1931 - accuracy: 0.9348 - val_loss: 0.1866 - val_accuracy: 0.9366\n",
            "Epoch 72/100\n",
            "112500/112500 [==============================] - 1s 8us/step - loss: 0.1924 - accuracy: 0.9343 - val_loss: 0.1875 - val_accuracy: 0.9346\n",
            "Epoch 73/100\n",
            "112500/112500 [==============================] - 1s 7us/step - loss: 0.1922 - accuracy: 0.9343 - val_loss: 0.1892 - val_accuracy: 0.9358\n",
            "Epoch 74/100\n",
            "112500/112500 [==============================] - 1s 8us/step - loss: 0.1927 - accuracy: 0.9344 - val_loss: 0.1889 - val_accuracy: 0.9345\n",
            "Epoch 75/100\n",
            "112500/112500 [==============================] - 1s 8us/step - loss: 0.1927 - accuracy: 0.9341 - val_loss: 0.1862 - val_accuracy: 0.9371\n",
            "Epoch 76/100\n",
            "112500/112500 [==============================] - 1s 8us/step - loss: 0.1931 - accuracy: 0.9340 - val_loss: 0.1873 - val_accuracy: 0.9362\n",
            "Epoch 77/100\n",
            "112500/112500 [==============================] - 1s 8us/step - loss: 0.1924 - accuracy: 0.9341 - val_loss: 0.1878 - val_accuracy: 0.9360\n",
            "Epoch 78/100\n",
            "112500/112500 [==============================] - 1s 8us/step - loss: 0.1924 - accuracy: 0.9336 - val_loss: 0.1863 - val_accuracy: 0.9361\n",
            "Epoch 79/100\n",
            "112500/112500 [==============================] - 1s 8us/step - loss: 0.1921 - accuracy: 0.9341 - val_loss: 0.1878 - val_accuracy: 0.9365\n",
            "Epoch 80/100\n",
            "112500/112500 [==============================] - 1s 8us/step - loss: 0.1923 - accuracy: 0.9338 - val_loss: 0.1865 - val_accuracy: 0.9367\n",
            "Epoch 81/100\n",
            "112500/112500 [==============================] - 1s 8us/step - loss: 0.1926 - accuracy: 0.9340 - val_loss: 0.1861 - val_accuracy: 0.9366\n",
            "Epoch 82/100\n",
            "112500/112500 [==============================] - 1s 8us/step - loss: 0.1922 - accuracy: 0.9338 - val_loss: 0.1863 - val_accuracy: 0.9366\n",
            "Epoch 83/100\n",
            "112500/112500 [==============================] - 1s 8us/step - loss: 0.1919 - accuracy: 0.9340 - val_loss: 0.1869 - val_accuracy: 0.9365\n",
            "Epoch 84/100\n",
            "112500/112500 [==============================] - 1s 8us/step - loss: 0.1925 - accuracy: 0.9340 - val_loss: 0.1858 - val_accuracy: 0.9366\n",
            "Epoch 85/100\n",
            "112500/112500 [==============================] - 1s 8us/step - loss: 0.1924 - accuracy: 0.9339 - val_loss: 0.1862 - val_accuracy: 0.9362\n",
            "Epoch 86/100\n",
            "112500/112500 [==============================] - 1s 8us/step - loss: 0.1922 - accuracy: 0.9339 - val_loss: 0.1868 - val_accuracy: 0.9364\n",
            "Epoch 87/100\n",
            "112500/112500 [==============================] - 1s 8us/step - loss: 0.1921 - accuracy: 0.9334 - val_loss: 0.1870 - val_accuracy: 0.9367\n",
            "Epoch 88/100\n",
            "112500/112500 [==============================] - 1s 7us/step - loss: 0.1921 - accuracy: 0.9341 - val_loss: 0.1876 - val_accuracy: 0.9340\n",
            "Epoch 89/100\n",
            "112500/112500 [==============================] - 1s 8us/step - loss: 0.1923 - accuracy: 0.9342 - val_loss: 0.1868 - val_accuracy: 0.9364\n",
            "Epoch 90/100\n",
            "112500/112500 [==============================] - 1s 8us/step - loss: 0.1919 - accuracy: 0.9342 - val_loss: 0.1860 - val_accuracy: 0.9364\n",
            "Epoch 91/100\n",
            "112500/112500 [==============================] - 1s 8us/step - loss: 0.1924 - accuracy: 0.9336 - val_loss: 0.1869 - val_accuracy: 0.9347\n",
            "Epoch 92/100\n",
            "112500/112500 [==============================] - 1s 8us/step - loss: 0.1922 - accuracy: 0.9335 - val_loss: 0.1865 - val_accuracy: 0.9362\n",
            "Epoch 93/100\n",
            "112500/112500 [==============================] - 1s 8us/step - loss: 0.1923 - accuracy: 0.9340 - val_loss: 0.1873 - val_accuracy: 0.9353\n",
            "Epoch 94/100\n",
            "112500/112500 [==============================] - 1s 8us/step - loss: 0.1925 - accuracy: 0.9340 - val_loss: 0.1885 - val_accuracy: 0.9339\n",
            "Epoch 95/100\n",
            "112500/112500 [==============================] - 1s 8us/step - loss: 0.1921 - accuracy: 0.9339 - val_loss: 0.1863 - val_accuracy: 0.9359\n",
            "Epoch 96/100\n",
            "112500/112500 [==============================] - 1s 8us/step - loss: 0.1920 - accuracy: 0.9338 - val_loss: 0.1860 - val_accuracy: 0.9366\n",
            "Epoch 97/100\n",
            "112500/112500 [==============================] - 1s 8us/step - loss: 0.1925 - accuracy: 0.9330 - val_loss: 0.1867 - val_accuracy: 0.9338\n",
            "Epoch 98/100\n",
            "112500/112500 [==============================] - 1s 8us/step - loss: 0.1922 - accuracy: 0.9338 - val_loss: 0.1870 - val_accuracy: 0.9340\n",
            "Epoch 99/100\n",
            "112500/112500 [==============================] - 1s 8us/step - loss: 0.1919 - accuracy: 0.9344 - val_loss: 0.1875 - val_accuracy: 0.9366\n",
            "Epoch 100/100\n",
            "112500/112500 [==============================] - 1s 8us/step - loss: 0.1921 - accuracy: 0.9339 - val_loss: 0.1860 - val_accuracy: 0.9366\n"
          ],
          "name": "stdout"
        }
      ]
    },
    {
      "cell_type": "code",
      "metadata": {
        "id": "BTDFCupqWVRR",
        "colab_type": "code",
        "outputId": "cfd341ab-1eb4-4469-bed5-5217fbb06306",
        "colab": {
          "base_uri": "https://localhost:8080/",
          "height": 177
        }
      },
      "source": [
        "plt.subplot(211)\n",
        "plt.plot(history.history['accuracy'])\n",
        "plt.plot(history.history['val_accuracy'])\n",
        "plt.title('model accuracy with more layers')\n",
        "plt.ylabel('accuracy')\n",
        "plt.xlabel('epoch')\n",
        "plt.legend(['train', 'test'], loc='lower right')\n",
        "plt.show()"
      ],
      "execution_count": 0,
      "outputs": [
        {
          "output_type": "display_data",
          "data": {
            "image/png": "[encoded data removed]",
            "text/plain": [
              "<Figure size 432x288 with 1 Axes>"
            ]
          },
          "metadata": {
            "tags": [],
            "needs_background": "light"
          }
        }
      ]
    },
    {
      "cell_type": "code",
      "metadata": {
        "id": "nL7nccOdisZl",
        "colab_type": "code",
        "outputId": "986596c9-5772-49be-e562-c4b9a69b28f8",
        "colab": {
          "base_uri": "https://localhost:8080/",
          "height": 35
        }
      },
      "source": [
        "# Final evaluation of the model\n",
        "scores = model.evaluate(X_test, y_test, verbose=0)\n",
        "print(\"Error: %.2f%%\" % (100-scores[1]*100))"
      ],
      "execution_count": 0,
      "outputs": [
        {
          "output_type": "stream",
          "text": [
            "Error: 6.34%\n"
          ],
          "name": "stdout"
        }
      ]
    }
  ]
}
