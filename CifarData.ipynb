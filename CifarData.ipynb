{
  "nbformat": 4,
  "nbformat_minor": 0,
  "metadata": {
    "kernelspec": {
      "display_name": "Python 3",
      "language": "python",
      "name": "python3"
    },
    "language_info": {
      "codemirror_mode": {
        "name": "ipython",
        "version": 3
      },
      "file_extension": ".py",
      "mimetype": "text/x-python",
      "name": "python",
      "nbconvert_exporter": "python",
      "pygments_lexer": "ipython3",
      "version": "3.7.3"
    },
    "colab": {
      "name": "4- HWCifarData.ipynb",
      "provenance": [],
      "collapsed_sections": []
    }
  },
  "cells": [
    {
      "cell_type": "markdown",
      "metadata": {
        "id": "69W2wIB9J2TN",
        "colab_type": "text"
      },
      "source": [
        "### CIFAR DATA\n",
        "The problem of automatically identifying objects in photographs is difficult because of the near infinite number of permutations of objects, positions, lighting and so on. It’s a really hard problem. This is a well studied problem in computer vision and more recently an important demonstration of the capability of deep learning. A standard computer vision and deep learning dataset for this problem was developed by the Canadian Institute for Advanced Research\n",
        "(CIFAR).\n",
        "The CIFAR-10 dataset consists of 60,000 photos divided into 10 classes (hence the name\n",
        "CIFAR-10). Classes include common objects such as airplanes, automobiles, birds, cats and so on. The dataset is split in a standard way, where 50,000 images are used for training a model and the remaining 10,000 for evaluating its performance. The photos are in color with red, green and blue channels, but are small measuring 32 × 32 pixel squares."
      ]
    },
    {
      "cell_type": "markdown",
      "metadata": {
        "id": "cI-K-mEKJ2TQ",
        "colab_type": "text"
      },
      "source": [
        "1. Load the  data set using `from keras.datasets import cifar10` and `(X_train, y_train), (X_test, y_test) = cifar10.load_data()`\n",
        "2. Train and test a simple CNN Model for this dataset\n",
        "  1. Convolutional input layer, 32 feature maps with a size of 3 × 3, a rectifier activation function and a weight constraint of max norm set to 3.\n",
        "  2. Dropout set to 20%.\n",
        "  3. Convolutional layer, 32 feature maps with a size of 3 × 3, a rectifier activation function and a weight constraint of max norm set to 3.\n",
        "  4. Max Pool layer with the size 2 × 2.\n",
        "  5. Flatten layer.\n",
        "  6. Fully connected layer with 512 units and a rectifier activation function.\n",
        "  7. Dropout set to 50%.\n",
        "  8. Fully connected output layer with 10 units and a softmax activation function.\n",
        "3. Train and test a larger CNN Model\n",
        "  1. Convolutional input layer, 32 feature maps with a size of 3 × 3 and a rectifier activation function.\n",
        "  2. Dropout layer at 20%.\n",
        "  3. Convolutional layer, 32 feature maps with a size of 3 × 3 and a rectifier activation function.\n",
        "  4. Max Pool layer with size 2 × 2.\n",
        "  5. Convolutional layer, 64 feature maps with a size of 3 × 3 and a rectifier activation function.\n",
        "  6. Dropout layer at 20%.\n",
        "  7. Convolutional layer, 64 feature maps with a size of 3 × 3 and a rectifier activation function.\n",
        "  8. Max Pool layer with size 2 × 2.\n",
        "  9. Convolutional layer, 128 feature maps with a size of 3×3 and a rectifier activation function.\n",
        "  10. Dropout layer at 20%.\n",
        "  11. Convolutional layer, 128 feature maps with a size of 3×3 and a rectifier activation function.\n",
        "  12. Max Pool layer with size 2 × 2.\n",
        "  13. Flatten layer.\n",
        "  14. Dropout layer at 20%.\n",
        "  15. Fully connected layer with 1,024 units and a rectifier activation function.\n",
        "  16. Dropout layer at 20%.\n",
        "  17. Fully connected layer with 512 units and a rectifier activation function.\n",
        "  18. Dropout layer at 20%.\n",
        "  19. Fully connected output layer with 10 units and a softmax activation function.\n",
        "  \n",
        "4. Extensions to Improve Model Performance\n",
        "  1. Train for More Epochs\n",
        "  2. Image Data Augmentation\n",
        "  3. Deeper Network Topology"
      ]
    },
    {
      "cell_type": "code",
      "metadata": {
        "id": "7wclAXnWJ2TV",
        "colab_type": "code",
        "outputId": "10c181ea-1c79-4f70-e5b9-3a2bd7171b47",
        "colab": {
          "base_uri": "https://localhost:8080/",
          "height": 35
        }
      },
      "source": [
        "from keras.datasets import cifar10\n",
        "import matplotlib.pyplot as plt\n",
        "import numpy as np\n",
        "from keras.models import Sequential\n",
        "from keras.layers import Dense\n",
        "from keras.layers import Dropout\n",
        "from keras.utils import np_utils\n",
        "from keras.constraints import maxnorm\n",
        "from keras.layers import Flatten\n",
        "from keras.layers.convolutional import Conv2D\n",
        "from keras.layers.convolutional import MaxPooling2D\n"
      ],
      "execution_count": 0,
      "outputs": [
        {
          "output_type": "stream",
          "text": [
            "Using TensorFlow backend.\n"
          ],
          "name": "stderr"
        }
      ]
    },
    {
      "cell_type": "code",
      "metadata": {
        "id": "5vHf0n-bJ2Tk",
        "colab_type": "code",
        "colab": {}
      },
      "source": [
        "# load (downloaded if needed) the cifar-10 dataset \n",
        "(X_train, y_train), (X_test, y_test) = cifar10.load_data()"
      ],
      "execution_count": 0,
      "outputs": []
    },
    {
      "cell_type": "code",
      "metadata": {
        "id": "hrJO7ED-J8S7",
        "colab_type": "code",
        "outputId": "5c1fc53f-3693-4d7e-f096-99ce3f0582dd",
        "colab": {
          "base_uri": "https://localhost:8080/",
          "height": 35
        }
      },
      "source": [
        "X_train.shape"
      ],
      "execution_count": 0,
      "outputs": [
        {
          "output_type": "execute_result",
          "data": {
            "text/plain": [
              "(50000, 32, 32, 3)"
            ]
          },
          "metadata": {
            "tags": []
          },
          "execution_count": 21
        }
      ]
    },
    {
      "cell_type": "code",
      "metadata": {
        "id": "1CTnElfJLMs5",
        "colab_type": "code",
        "outputId": "b25106ca-76a8-4e35-a941-d9b174bb2198",
        "colab": {
          "base_uri": "https://localhost:8080/",
          "height": 35
        }
      },
      "source": [
        "y_train.shape"
      ],
      "execution_count": 0,
      "outputs": [
        {
          "output_type": "execute_result",
          "data": {
            "text/plain": [
              "(50000, 1)"
            ]
          },
          "metadata": {
            "tags": []
          },
          "execution_count": 22
        }
      ]
    },
    {
      "cell_type": "code",
      "metadata": {
        "id": "iQmbjy8JLdoq",
        "colab_type": "code",
        "outputId": "8dc1794e-2c10-449b-d71d-e76d86d2e032",
        "colab": {
          "base_uri": "https://localhost:8080/",
          "height": 146
        }
      },
      "source": [
        "y_train"
      ],
      "execution_count": 0,
      "outputs": [
        {
          "output_type": "execute_result",
          "data": {
            "text/plain": [
              "array([[6],\n",
              "       [9],\n",
              "       [9],\n",
              "       ...,\n",
              "       [9],\n",
              "       [1],\n",
              "       [1]], dtype=uint8)"
            ]
          },
          "metadata": {
            "tags": []
          },
          "execution_count": 23
        }
      ]
    },
    {
      "cell_type": "code",
      "metadata": {
        "id": "X-VxMgRvYb9l",
        "colab_type": "code",
        "outputId": "06a4185a-07f5-4b81-c0b2-27f0f90b22c9",
        "colab": {
          "base_uri": "https://localhost:8080/",
          "height": 268
        }
      },
      "source": [
        "# plot 4 images as gray scale\n",
        "plt.subplot(221)\n",
        "plt.imshow(X_train[0])\n",
        "plt.subplot(222)\n",
        "plt.imshow(X_train[1])\n",
        "plt.subplot(223)\n",
        "plt.imshow(X_train[500])\n",
        "plt.subplot(224)\n",
        "plt.imshow(X_train[100])\n",
        "# show the plot\n",
        "plt.show()"
      ],
      "execution_count": 0,
      "outputs": [
        {
          "output_type": "display_data",
          "data": {
            "image/png": "[encoded data removed]",
            "text/plain": [
              "<Figure size 432x288 with 4 Axes>"
            ]
          },
          "metadata": {
            "tags": [],
            "needs_background": "light"
          }
        }
      ]
    },
    {
      "cell_type": "code",
      "metadata": {
        "id": "xBaH2HZSXvj3",
        "colab_type": "code",
        "colab": {}
      },
      "source": [
        "# reshape to be [samples][width][height][channels]\n",
        "X_train = X_train.astype('float32')\n",
        "X_test = X_test.astype('float32')\n",
        "mean = np.mean(X_train)\n",
        "stddev = np.std(X_train)\n",
        "#scale\n",
        "X_train = (X_train - mean) / stddev\n",
        "X_test = (X_test - mean) / stddev\n",
        "# one hot encode outputs\n",
        "y_train = np_utils.to_categorical(y_train)\n",
        "y_test = np_utils.to_categorical(y_test)\n",
        "num_classes = y_test.shape[1]"
      ],
      "execution_count": 0,
      "outputs": []
    },
    {
      "cell_type": "code",
      "metadata": {
        "id": "0pJQlGTkS-4f",
        "colab_type": "code",
        "outputId": "caf8300d-8fd8-4bf4-fd80-0767c32d309a",
        "colab": {
          "base_uri": "https://localhost:8080/",
          "height": 35
        }
      },
      "source": [
        "y_train.shape"
      ],
      "execution_count": 0,
      "outputs": [
        {
          "output_type": "execute_result",
          "data": {
            "text/plain": [
              "(50000, 10)"
            ]
          },
          "metadata": {
            "tags": []
          },
          "execution_count": 26
        }
      ]
    },
    {
      "cell_type": "code",
      "metadata": {
        "id": "Lslb-Nk-LssP",
        "colab_type": "code",
        "colab": {}
      },
      "source": [
        "def baseline_model():\n",
        "      model = Sequential()\n",
        "      model.add(Conv2D(32,(3,3), input_shape=(32,32,3), activation=\"relu\" ,kernel_constraint=maxnorm(3)))\n",
        "      model.add(Dropout(0.2))\n",
        "      model.add(Conv2D(32,(3,3),  activation=\"relu\",kernel_constraint=maxnorm(3)))\n",
        "      model.add(MaxPooling2D(pool_size=(2,2)))\n",
        "      model.add(Flatten())\n",
        "      model.add(Dense(512, activation=\"relu\"))\n",
        "      model.add(Dropout(0.5))\n",
        "      model.add(Dense(10,activation=\"softmax\" ))\n",
        "    \n",
        "      # Compile model\n",
        "      model.compile(loss='categorical_crossentropy', optimizer='adam', metrics=['accuracy']) \n",
        "      return model\n"
      ],
      "execution_count": 0,
      "outputs": []
    },
    {
      "cell_type": "code",
      "metadata": {
        "id": "WLSK1Yc6iE3b",
        "colab_type": "code",
        "outputId": "9c744153-14fe-4db2-a4b2-91d2fe2404d1",
        "colab": {
          "base_uri": "https://localhost:8080/",
          "height": 972
        }
      },
      "source": [
        "#build the model\n",
        "model = baseline_model()\n",
        "# Fit the model\n",
        "model.fit(X_train, y_train, validation_data=(X_test, y_test), epochs=25, batch_size=200,\n",
        "    verbose=2)\n",
        "# Final evaluation of the model\n",
        "scores = model.evaluate(X_test, y_test, verbose=0)\n",
        "print(\"Simple CNN Baseline Error for CIFAR data: %.2f%%\" % (100-scores[1]*100))"
      ],
      "execution_count": 0,
      "outputs": [
        {
          "output_type": "stream",
          "text": [
            "Train on 50000 samples, validate on 10000 samples\n",
            "Epoch 1/25\n",
            " - 136s - loss: 1.5893 - accuracy: 0.4319 - val_loss: 1.2211 - val_accuracy: 0.5724\n",
            "Epoch 2/25\n",
            " - 140s - loss: 1.1859 - accuracy: 0.5796 - val_loss: 1.0443 - val_accuracy: 0.6390\n",
            "Epoch 3/25\n",
            " - 135s - loss: 1.0188 - accuracy: 0.6453 - val_loss: 0.9634 - val_accuracy: 0.6655\n",
            "Epoch 4/25\n",
            " - 135s - loss: 0.9008 - accuracy: 0.6857 - val_loss: 0.9174 - val_accuracy: 0.6781\n",
            "Epoch 5/25\n",
            " - 135s - loss: 0.8084 - accuracy: 0.7149 - val_loss: 0.8743 - val_accuracy: 0.6950\n",
            "Epoch 6/25\n",
            " - 140s - loss: 0.7335 - accuracy: 0.7402 - val_loss: 0.8782 - val_accuracy: 0.6968\n",
            "Epoch 7/25\n",
            " - 135s - loss: 0.6710 - accuracy: 0.7644 - val_loss: 0.8591 - val_accuracy: 0.7043\n",
            "Epoch 8/25\n",
            " - 135s - loss: 0.6033 - accuracy: 0.7859 - val_loss: 0.8808 - val_accuracy: 0.7058\n",
            "Epoch 9/25\n",
            " - 135s - loss: 0.5547 - accuracy: 0.8023 - val_loss: 0.8794 - val_accuracy: 0.7158\n",
            "Epoch 10/25\n",
            " - 135s - loss: 0.5076 - accuracy: 0.8193 - val_loss: 0.8882 - val_accuracy: 0.7108\n",
            "Epoch 11/25\n",
            " - 138s - loss: 0.4683 - accuracy: 0.8345 - val_loss: 0.9138 - val_accuracy: 0.7110\n",
            "Epoch 12/25\n",
            " - 134s - loss: 0.4225 - accuracy: 0.8487 - val_loss: 0.9462 - val_accuracy: 0.7086\n",
            "Epoch 13/25\n",
            " - 135s - loss: 0.3940 - accuracy: 0.8590 - val_loss: 0.9450 - val_accuracy: 0.7096\n",
            "Epoch 14/25\n",
            " - 135s - loss: 0.3587 - accuracy: 0.8704 - val_loss: 0.9986 - val_accuracy: 0.7104\n",
            "Epoch 15/25\n",
            " - 138s - loss: 0.3360 - accuracy: 0.8804 - val_loss: 1.0344 - val_accuracy: 0.7095\n",
            "Epoch 16/25\n",
            " - 135s - loss: 0.3174 - accuracy: 0.8880 - val_loss: 1.0831 - val_accuracy: 0.7016\n",
            "Epoch 17/25\n",
            " - 135s - loss: 0.2938 - accuracy: 0.8946 - val_loss: 1.0831 - val_accuracy: 0.7057\n",
            "Epoch 18/25\n",
            " - 135s - loss: 0.2740 - accuracy: 0.9012 - val_loss: 1.1338 - val_accuracy: 0.7093\n",
            "Epoch 19/25\n",
            " - 135s - loss: 0.2578 - accuracy: 0.9083 - val_loss: 1.1632 - val_accuracy: 0.7078\n",
            "Epoch 20/25\n",
            " - 141s - loss: 0.2435 - accuracy: 0.9120 - val_loss: 1.2094 - val_accuracy: 0.7085\n",
            "Epoch 21/25\n",
            " - 135s - loss: 0.2389 - accuracy: 0.9140 - val_loss: 1.1761 - val_accuracy: 0.7080\n",
            "Epoch 22/25\n",
            " - 135s - loss: 0.2268 - accuracy: 0.9187 - val_loss: 1.2207 - val_accuracy: 0.7089\n",
            "Epoch 23/25\n",
            " - 135s - loss: 0.2192 - accuracy: 0.9215 - val_loss: 1.2305 - val_accuracy: 0.7114\n",
            "Epoch 24/25\n",
            " - 140s - loss: 0.2115 - accuracy: 0.9237 - val_loss: 1.3038 - val_accuracy: 0.7046\n",
            "Epoch 25/25\n",
            " - 136s - loss: 0.2007 - accuracy: 0.9280 - val_loss: 1.2707 - val_accuracy: 0.7069\n",
            "Simple CNN Baseline Error for CIFAR data: 29.31%\n"
          ],
          "name": "stdout"
        }
      ]
    },
    {
      "cell_type": "code",
      "metadata": {
        "id": "kozmVScdYd4_",
        "colab_type": "code",
        "colab": {}
      },
      "source": [
        "#Train and test a larger CNN Model\n",
        "def larger_model():\n",
        "      model = Sequential()\n",
        "      model.add(Conv2D(32,(3,3), input_shape=(32,32,3), activation=\"relu\", padding='same'))\n",
        "      model.add(Dropout(0.2))\n",
        "      model.add(Conv2D(32,(3,3),  activation=\"relu\", padding='same'))\n",
        "      model.add(MaxPooling2D(pool_size=(2,2)))\n",
        "      model.add(Conv2D(64,(3,3), activation=\"relu\", padding='same'))\n",
        "      model.add(Dropout(0.2))\n",
        "      model.add(Conv2D(64,(3,3), activation=\"relu\", padding='same'))\n",
        "      model.add(MaxPooling2D(pool_size=(2,2)))\n",
        "      model.add(Conv2D(128,(3,3), activation=\"relu\", padding='same'))\n",
        "      model.add(Dropout(0.2))\n",
        "      model.add(Conv2D(128,(3,3), activation=\"relu\", padding='same'))\n",
        "      model.add(MaxPooling2D(pool_size=(2,2)))\n",
        "      model.add(Flatten())\n",
        "      model.add(Dropout(0.2))\n",
        "      model.add(Dense(1024, activation=\"relu\"))\n",
        "      model.add(Dropout(0.2))\n",
        "      model.add(Dense(512, activation=\"relu\"))\n",
        "      model.add(Dropout(0.2))\n",
        "      model.add(Dense(10,activation=\"softmax\" ))\n",
        " \n",
        "      # Compile model\n",
        "      model.compile(loss='categorical_crossentropy', optimizer='adam', metrics=['accuracy']) \n",
        "      return model\n"
      ],
      "execution_count": 0,
      "outputs": []
    },
    {
      "cell_type": "code",
      "metadata": {
        "colab_type": "code",
        "outputId": "4dbc278d-68d9-4cf0-d6aa-61bc7417627e",
        "id": "XF4Ui8UE8tFy",
        "colab": {
          "base_uri": "https://localhost:8080/",
          "height": 1000
        }
      },
      "source": [
        "# load (downloaded if needed) the cifar-10 dataset \n",
        "(X_train, y_train), (X_test, y_test) = cifar10.load_data()\n",
        "# reshape to be [samples][width][height][channels]\n",
        "X_train = X_train.astype('float32')\n",
        "X_test = X_test.astype('float32')\n",
        "mean = np.mean(X_train)\n",
        "stddev = np.std(X_train)\n",
        "#scale\n",
        "X_train = (X_train - mean) / stddev\n",
        "X_test = (X_test - mean) / stddev\n",
        "# one hot encode outputs\n",
        "y_train = np_utils.to_categorical(y_train)\n",
        "y_test = np_utils.to_categorical(y_test)\n",
        "\n",
        "\n",
        "#build the model\n",
        "model = larger_model()\n",
        "# Fit the model\n",
        "model.fit(X_train, y_train, validation_data=(X_test, y_test), epochs=25, batch_size=200,\n",
        "    verbose=2)\n",
        "# Final evaluation of the model\n",
        "scores = model.evaluate(X_test, y_test, verbose=0)\n",
        "print(\"Larger CNN model, Error for CIFAR data: %.2f%%\" % (100-scores[1]*100))"
      ],
      "execution_count": 0,
      "outputs": [
        {
          "output_type": "stream",
          "text": [
            "Downloading data from https://www.cs.toronto.edu/~kriz/cifar-10-python.tar.gz\n",
            "170500096/170498071 [==============================] - 11s 0us/step\n",
            "Train on 50000 samples, validate on 10000 samples\n",
            "Epoch 1/25\n",
            " - 389s - loss: 1.6320 - accuracy: 0.3935 - val_loss: 1.3567 - val_accuracy: 0.5109\n",
            "Epoch 2/25\n",
            " - 393s - loss: 1.1357 - accuracy: 0.5911 - val_loss: 0.9919 - val_accuracy: 0.6431\n",
            "Epoch 3/25\n",
            " - 389s - loss: 0.9083 - accuracy: 0.6783 - val_loss: 0.8404 - val_accuracy: 0.7042\n",
            "Epoch 4/25\n",
            " - 393s - loss: 0.7804 - accuracy: 0.7264 - val_loss: 0.7462 - val_accuracy: 0.7378\n",
            "Epoch 5/25\n",
            " - 390s - loss: 0.6853 - accuracy: 0.7589 - val_loss: 0.7001 - val_accuracy: 0.7596\n",
            "Epoch 6/25\n",
            " - 387s - loss: 0.6141 - accuracy: 0.7838 - val_loss: 0.6572 - val_accuracy: 0.7719\n",
            "Epoch 7/25\n",
            " - 394s - loss: 0.5501 - accuracy: 0.8055 - val_loss: 0.6259 - val_accuracy: 0.7873\n",
            "Epoch 8/25\n",
            " - 394s - loss: 0.4965 - accuracy: 0.8247 - val_loss: 0.6037 - val_accuracy: 0.7919\n",
            "Epoch 9/25\n",
            " - 389s - loss: 0.4553 - accuracy: 0.8403 - val_loss: 0.6259 - val_accuracy: 0.7907\n",
            "Epoch 10/25\n",
            " - 392s - loss: 0.4198 - accuracy: 0.8519 - val_loss: 0.5903 - val_accuracy: 0.8064\n",
            "Epoch 11/25\n",
            " - 395s - loss: 0.3861 - accuracy: 0.8653 - val_loss: 0.5815 - val_accuracy: 0.8079\n",
            "Epoch 12/25\n",
            " - 389s - loss: 0.3498 - accuracy: 0.8753 - val_loss: 0.6145 - val_accuracy: 0.8003\n",
            "Epoch 13/25\n",
            " - 394s - loss: 0.3275 - accuracy: 0.8825 - val_loss: 0.6220 - val_accuracy: 0.8021\n",
            "Epoch 14/25\n",
            " - 390s - loss: 0.3032 - accuracy: 0.8941 - val_loss: 0.6214 - val_accuracy: 0.8002\n",
            "Epoch 15/25\n",
            " - 395s - loss: 0.2745 - accuracy: 0.9037 - val_loss: 0.6082 - val_accuracy: 0.8100\n",
            "Epoch 16/25\n",
            " - 394s - loss: 0.2620 - accuracy: 0.9080 - val_loss: 0.6263 - val_accuracy: 0.8088\n",
            "Epoch 17/25\n",
            " - 389s - loss: 0.2425 - accuracy: 0.9143 - val_loss: 0.6697 - val_accuracy: 0.8047\n",
            "Epoch 18/25\n",
            " - 395s - loss: 0.2298 - accuracy: 0.9197 - val_loss: 0.6856 - val_accuracy: 0.8098\n",
            "Epoch 19/25\n",
            " - 394s - loss: 0.2168 - accuracy: 0.9249 - val_loss: 0.6850 - val_accuracy: 0.8098\n",
            "Epoch 20/25\n",
            " - 389s - loss: 0.2058 - accuracy: 0.9284 - val_loss: 0.7055 - val_accuracy: 0.8087\n",
            "Epoch 21/25\n",
            " - 395s - loss: 0.2036 - accuracy: 0.9282 - val_loss: 0.6931 - val_accuracy: 0.8072\n",
            "Epoch 22/25\n",
            " - 392s - loss: 0.1944 - accuracy: 0.9316 - val_loss: 0.7034 - val_accuracy: 0.8116\n",
            "Epoch 23/25\n",
            " - 388s - loss: 0.1823 - accuracy: 0.9367 - val_loss: 0.7123 - val_accuracy: 0.8045\n",
            "Epoch 24/25\n",
            " - 393s - loss: 0.1819 - accuracy: 0.9379 - val_loss: 0.7126 - val_accuracy: 0.8112\n",
            "Epoch 25/25\n",
            " - 393s - loss: 0.1683 - accuracy: 0.9409 - val_loss: 0.7260 - val_accuracy: 0.8106\n",
            "Larger CNN model, Error for CIFAR data: 18.94%\n"
          ],
          "name": "stdout"
        }
      ]
    }
  ]
}